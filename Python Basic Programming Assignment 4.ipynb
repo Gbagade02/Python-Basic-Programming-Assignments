{
 "cells": [
  {
   "cell_type": "markdown",
   "id": "e80083a0",
   "metadata": {},
   "source": [
    "### 1.Write a Python Program to Find the Factorial of a Number? "
   ]
  },
  {
   "cell_type": "code",
   "execution_count": 2,
   "id": "b6bace10",
   "metadata": {},
   "outputs": [
    {
     "name": "stdout",
     "output_type": "stream",
     "text": [
      "Enter the no. whoz Factorial you want 5\n",
      "Factorial of 5 is 120\n"
     ]
    }
   ],
   "source": [
    "#function defination for factorial\n",
    "def factorial(number):\n",
    "    if number<0:\n",
    "        s=\"\\nSorry, Number can't be negative .TRY AGAIN\"\n",
    "        return s\n",
    "    elif number==0 or number==1:\n",
    "        return 1\n",
    "    else:\n",
    "        return number*factorial(number-1)#7*6*5*4*3*2\n",
    "\n",
    "\n",
    "\n",
    "#initialized the varible number\n",
    "number=int(input(\"Enter the no. whoz Factorial you want \"))\n",
    "\n",
    "#function calling\n",
    "res=factorial(number)\n",
    "print(f\"Factorial of {number} is {res}\")"
   ]
  },
  {
   "cell_type": "markdown",
   "id": "f0f4a1c2",
   "metadata": {},
   "source": [
    "### 2.Write a Python Program to Display the multiplication Table?"
   ]
  },
  {
   "cell_type": "code",
   "execution_count": 4,
   "id": "e436e383",
   "metadata": {},
   "outputs": [
    {
     "name": "stdout",
     "output_type": "stream",
     "text": [
      "Enter the Number which multiplication table you want 2022\n",
      "2022 x 1 = 2022\n",
      "2022 x 2 = 4044\n",
      "2022 x 3 = 6066\n",
      "2022 x 4 = 8088\n",
      "2022 x 5 = 10110\n",
      "2022 x 6 = 12132\n",
      "2022 x 7 = 14154\n",
      "2022 x 8 = 16176\n",
      "2022 x 9 = 18198\n",
      "2022 x 10 = 20220\n"
     ]
    }
   ],
   "source": [
    "number=int(input(\"Enter the Number which multiplication table you want \"))\n",
    "for i in range(1,11):\n",
    "    print(f\"{number} x {i} = {number*i}\")"
   ]
  },
  {
   "cell_type": "markdown",
   "id": "48611102",
   "metadata": {},
   "source": [
    "### 3.Write a Python Program to Print the Fibonacci sequence?"
   ]
  },
  {
   "cell_type": "code",
   "execution_count": 5,
   "id": "d6fc83a1",
   "metadata": {},
   "outputs": [
    {
     "name": "stdout",
     "output_type": "stream",
     "text": [
      "Enter the no. whoz Fibonacci sequence you want 15\n",
      "\n",
      "Fibonacci sequence is :\n",
      "\n",
      "1  1  2  3  5  8  13  21  34  55  89  144  233  377  610  987  "
     ]
    }
   ],
   "source": [
    "#initialized the varible number\n",
    "number=int(input(\"Enter the no. whoz Fibonacci sequence you want \"))\n",
    "print()\n",
    "\n",
    "#logic\n",
    "\n",
    "if number<0:\n",
    "    print(\"\\nSorry, Number can't be negative .TRY AGAIN\")\n",
    "elif number==0 or number==1:\n",
    "    print(\"Fibonacci sequence is 1 1\")\n",
    "else:\n",
    "    a,b=1,1\n",
    "    print(\"Fibonacci sequence is :\\n\")\n",
    "    print(\"1  1\",end=\"  \")\n",
    "    for i in range(2,number+1):\n",
    "        c=a+b\n",
    "        print(c,end=\"  \")\n",
    "        a=b\n",
    "        b=c"
   ]
  },
  {
   "cell_type": "markdown",
   "id": "70e3c813",
   "metadata": {},
   "source": [
    "### 4.Write a Python Program to Check Armstrong Number?"
   ]
  },
  {
   "cell_type": "code",
   "execution_count": 17,
   "id": "8eb5eca7",
   "metadata": {},
   "outputs": [
    {
     "name": "stdout",
     "output_type": "stream",
     "text": [
      "Enter the no. whoz Armstrong you want to check 9474\n",
      "\n",
      "9474 is Armstrong Number of 9474\n"
     ]
    }
   ],
   "source": [
    "number=int(input(\"Enter the no. whoz Armstrong you want to check \"))\n",
    "print()\n",
    "\n",
    "count=0\n",
    "\n",
    "# for size of no. and for iterable convert int to str\n",
    "num=str(number)\n",
    "size=len(num)\n",
    "\n",
    "#main logic by each no. power with size and than  adding all \n",
    "for i in num:\n",
    "    temp=int(i)**size\n",
    "    count=count+temp\n",
    "    \n",
    "#Check Armstrong Number\n",
    "\n",
    "if count== number:\n",
    "    print(f\"{count} is Armstrong Number of {number}\")\n",
    "else :   \n",
    "    print(f\"{count} is Not  Armstrong Number of {number}\")"
   ]
  },
  {
   "cell_type": "markdown",
   "id": "238bbfe0",
   "metadata": {},
   "source": [
    "### 5.Write a Python Program to Find Armstrong Number in an Interval?"
   ]
  },
  {
   "cell_type": "code",
   "execution_count": 20,
   "id": "bcc121b2",
   "metadata": {},
   "outputs": [
    {
     "name": "stdout",
     "output_type": "stream",
     "text": [
      "Enter the Lower Interval 100\n",
      "\n",
      "Enter the Upper Interval 100000\n",
      "\n",
      "Armstrong Number in an Interval 100 to 100000 are\n",
      "153\n",
      "370\n",
      "371\n",
      "407\n",
      "1634\n",
      "8208\n",
      "9474\n",
      "54748\n",
      "92727\n",
      "93084\n"
     ]
    }
   ],
   "source": [
    "lower_interval=int(input(\"Enter the Lower Interval \"))\n",
    "Upper_interval=int(input(\"\\nEnter the Upper Interval \"))\n",
    "print()\n",
    "print(f\"Armstrong Number in an Interval {lower_interval} to {Upper_interval} are\") \n",
    "\n",
    "for number in range(lower_interval,Upper_interval+1):\n",
    "        \n",
    "    count=0\n",
    "    num=str(number)\n",
    "    size=len(num)\n",
    "    for i in num:\n",
    "        temp=int(i)**size\n",
    "        count=count+temp\n",
    "    #Check Armstrong Number\n",
    "    if count== number:\n",
    "        print(number)"
   ]
  },
  {
   "cell_type": "code",
   "execution_count": 21,
   "id": "f6219e34",
   "metadata": {},
   "outputs": [],
   "source": [
    "n= 100"
   ]
  },
  {
   "cell_type": "code",
   "execution_count": 26,
   "id": "2ec23c0c",
   "metadata": {},
   "outputs": [
    {
     "data": {
      "text/plain": [
       "5050"
      ]
     },
     "execution_count": 26,
     "metadata": {},
     "output_type": "execute_result"
    }
   ],
   "source": [
    "n*(n+1)//2"
   ]
  },
  {
   "cell_type": "markdown",
   "id": "89f7596a",
   "metadata": {},
   "source": [
    "### 6.Write a Python Program to Find the Sum of Natural Numbers?"
   ]
  },
  {
   "cell_type": "code",
   "execution_count": 28,
   "id": "6289198c",
   "metadata": {},
   "outputs": [
    {
     "name": "stdout",
     "output_type": "stream",
     "text": [
      "Enter the Number 15\n",
      "The sum is 120\n"
     ]
    }
   ],
   "source": [
    "# Sum of natural numbers up to num\n",
    "\n",
    "num = int(input(\"Enter the Number \"))\n",
    "\n",
    "if num < 0:\n",
    "   print(\"Enter a positive number\")\n",
    "else:\n",
    "   sum = 0\n",
    "   # use while loop to iterate until zero\n",
    "   while(num > 0):\n",
    "       sum += num\n",
    "       num -= 1\n",
    "   print(\"The sum is\", sum)"
   ]
  },
  {
   "cell_type": "code",
   "execution_count": 29,
   "id": "34a4ff06",
   "metadata": {},
   "outputs": [
    {
     "name": "stdout",
     "output_type": "stream",
     "text": [
      "Enter the Number 15\n",
      "Sum of Natural number of 15 is 120\n"
     ]
    }
   ],
   "source": [
    "n=int(input(\"Enter the Number \"))\n",
    "res=int(n*(n+1)/2)\n",
    "print(f\"Sum of Natural number of {n} is {res}\")"
   ]
  },
  {
   "cell_type": "code",
   "execution_count": null,
   "id": "9ba5ac1c",
   "metadata": {},
   "outputs": [],
   "source": []
  }
 ],
 "metadata": {
  "kernelspec": {
   "display_name": "Python 3",
   "language": "python",
   "name": "python3"
  },
  "language_info": {
   "codemirror_mode": {
    "name": "ipython",
    "version": 3
   },
   "file_extension": ".py",
   "mimetype": "text/x-python",
   "name": "python",
   "nbconvert_exporter": "python",
   "pygments_lexer": "ipython3",
   "version": "3.8.8"
  }
 },
 "nbformat": 4,
 "nbformat_minor": 5
}
