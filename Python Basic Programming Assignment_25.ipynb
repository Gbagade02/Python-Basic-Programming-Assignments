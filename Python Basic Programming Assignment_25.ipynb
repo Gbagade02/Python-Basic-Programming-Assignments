{
 "cells": [
  {
   "cell_type": "markdown",
   "id": "ce881d06",
   "metadata": {},
   "source": [
    "### Question1\n",
    "Create a function that takes three integer arguments (a, b, c) and returns the amount of\n",
    "integers which are of equal value.<br>\n",
    "Examples<br>\n",
    "equal(3, 4, 3) ➞ 2<br>\n",
    "equal(1, 1, 1) ➞ 3<br>\n",
    "equal(3, 4, 1) ➞ 0<br>\n",
    "Notes<br>\n",
    "Your function must return 0, 2 or 3."
   ]
  },
  {
   "cell_type": "code",
   "execution_count": 1,
   "id": "cccd4c46",
   "metadata": {},
   "outputs": [],
   "source": [
    "def equal(a,b,c):\n",
    "\n",
    "    if a == b and a == c :\n",
    "        return 3\n",
    "    elif a == b or a == c :\n",
    "        return 2\n",
    "    else:\n",
    "        return 0"
   ]
  },
  {
   "cell_type": "code",
   "execution_count": 2,
   "id": "0851dd64",
   "metadata": {},
   "outputs": [
    {
     "data": {
      "text/plain": [
       "0"
      ]
     },
     "execution_count": 2,
     "metadata": {},
     "output_type": "execute_result"
    }
   ],
   "source": [
    "equal(3, 4, 1)"
   ]
  },
  {
   "cell_type": "code",
   "execution_count": 3,
   "id": "aa162d56",
   "metadata": {},
   "outputs": [
    {
     "data": {
      "text/plain": [
       "2"
      ]
     },
     "execution_count": 3,
     "metadata": {},
     "output_type": "execute_result"
    }
   ],
   "source": [
    "equal(3, 4, 3)"
   ]
  },
  {
   "cell_type": "code",
   "execution_count": 4,
   "id": "4e101f13",
   "metadata": {},
   "outputs": [
    {
     "data": {
      "text/plain": [
       "3"
      ]
     },
     "execution_count": 4,
     "metadata": {},
     "output_type": "execute_result"
    }
   ],
   "source": [
    "equal(1, 1, 1)"
   ]
  },
  {
   "cell_type": "markdown",
   "id": "35b58f7b",
   "metadata": {},
   "source": [
    "### Question2\n",
    "Write a function that converts a dictionary into a list of keys-values tuples.<br>\n",
    "Examples<br>\n",
    "dict_to_list({<br>\n",
    "&quot;D&quot;: 1,<br>\n",
    "&quot;B&quot;: 2,<br>\n",
    "&quot;C&quot;: 3<br>\n",
    "}) ➞ [(&quot;B&quot;, 2), (&quot;C&quot;, 3), (&quot;D&quot;, 1)]<br>\n",
    "dict_to_list({<br>\n",
    "&quot;likes&quot;: 2,<br>\n",
    "&quot;dislikes&quot;: 3,<br>\n",
    "&quot;followers&quot;: 10<br>\n",
    "&quot;dislikes&quot;: 3,<br>\n",
    "}) ➞ [(&quot;dislikes&quot;, 3), (&quot;followers&quot;, 10), (&quot;likes&quot;, 2)]<br>\n",
    "Notes<br>\n",
    "Return the elements in the list in alphabetical order."
   ]
  },
  {
   "cell_type": "code",
   "execution_count": 5,
   "id": "86d6e534",
   "metadata": {},
   "outputs": [],
   "source": [
    "def dict_to_list(dictionary):\n",
    "    return sorted([i for i in dictionary.items()])"
   ]
  },
  {
   "cell_type": "code",
   "execution_count": 6,
   "id": "6039a737",
   "metadata": {},
   "outputs": [
    {
     "data": {
      "text/plain": [
       "[('B', 2), ('C', 3), ('D', 1)]"
      ]
     },
     "execution_count": 6,
     "metadata": {},
     "output_type": "execute_result"
    }
   ],
   "source": [
    "dict_to_list({\n",
    "\"D\": 1,\n",
    "\"B\": 2,\n",
    "\"C\": 3\n",
    "})"
   ]
  },
  {
   "cell_type": "markdown",
   "id": "15fd555f",
   "metadata": {},
   "source": [
    "### Question3\n",
    "Write a function that creates a dictionary with each (key, value) pair being the (lower case,\n",
    "upper case) versions of a letter, respectively.<br>\n",
    "Examples<br>\n",
    "mapping([&quot;p&quot;, &quot;s&quot;]) ➞ { &quot;p&quot;: &quot;P&quot;, &quot;s&quot;: &quot;S&quot; }<br>\n",
    "\n",
    "mapping([&quot;a&quot;, &quot;b&quot;, &quot;c&quot;]) ➞ { &quot;a&quot;: &quot;A&quot;, &quot;b&quot;: &quot;B&quot;, &quot;c&quot;: &quot;C&quot; }<br>\n",
    "mapping([&quot;a&quot;, &quot;v&quot;, &quot;y&quot;, &quot;z&quot;]) ➞ { &quot;a&quot;: &quot;A&quot;, &quot;v&quot;: &quot;V&quot;, &quot;y&quot;: &quot;Y&quot;, &quot;z&quot;: &quot;Z&quot; }<br>\n",
    "Notes<br>\n",
    "All of the letters in the input list will always be lowercase."
   ]
  },
  {
   "cell_type": "code",
   "execution_count": 7,
   "id": "37d7c8f4",
   "metadata": {},
   "outputs": [],
   "source": [
    "def mapping(lst):\n",
    "    return {i:i.upper() for i in lst}"
   ]
  },
  {
   "cell_type": "code",
   "execution_count": 8,
   "id": "e09f9780",
   "metadata": {},
   "outputs": [
    {
     "data": {
      "text/plain": [
       "{'a': 'A', 'b': 'B', 'c': 'C'}"
      ]
     },
     "execution_count": 8,
     "metadata": {},
     "output_type": "execute_result"
    }
   ],
   "source": [
    "mapping([\"a\", \"b\", \"c\"]) "
   ]
  },
  {
   "cell_type": "markdown",
   "id": "1c310512",
   "metadata": {},
   "source": [
    "### Question4\n",
    "Write a function, that replaces all vowels in a string with a specified vowel.<br>\n",
    "Examples<br>\n",
    "vow_replace(\"apples and bananas\", \"u\") ➞ \"upplus und bununus\"<br>\n",
    "vow_replace(\"cheese casserole\", \"o\") ➞ \"chooso cossorolo\"<br>\n",
    "vow_replace(\"stuffed jalapeno poppers\", \"e\") ➞ \"steffed jelepene peppers\"<br>\n",
    "\n",
    "Notes<br>\n",
    "All words will be lowercase. Y is not considered a vowel."
   ]
  },
  {
   "cell_type": "code",
   "execution_count": 9,
   "id": "9fca34f1",
   "metadata": {},
   "outputs": [],
   "source": [
    "def vow_replace(string, rep):\n",
    "    for alpha in [\"a\",\"e\",\"i\",\"o\",\"u\"]: \n",
    "        string= string.replace(alpha,rep)\n",
    "    return string    "
   ]
  },
  {
   "cell_type": "code",
   "execution_count": 10,
   "id": "ff6ef355",
   "metadata": {},
   "outputs": [
    {
     "data": {
      "text/plain": [
       "'upplus und bununus'"
      ]
     },
     "execution_count": 10,
     "metadata": {},
     "output_type": "execute_result"
    }
   ],
   "source": [
    "vow_replace(\"apples and bananas\", \"u\")"
   ]
  },
  {
   "cell_type": "markdown",
   "id": "5aac33c1",
   "metadata": {},
   "source": [
    "### Question5\n",
    "Create a function that takes a string as input and capitalizes a letter if its ASCII code is even and returns its lower case version if its ASCII code is odd.<br>\n",
    "\n",
    "Examples<br>\n",
    "ascii_capitalize(\"to be or not to be!\") ➞ \"To Be oR NoT To Be!\"<br>\n",
    "ascii_capitalize(\"THE LITTLE MERMAID\") ➞ \"THe LiTTLe meRmaiD\"<br>\n",
    "ascii_capitalize(\"Oh what a beautiful morning.\") ➞ \"oH wHaT a BeauTiFuL moRNiNg.\""
   ]
  },
  {
   "cell_type": "code",
   "execution_count": 11,
   "id": "c29a9005",
   "metadata": {},
   "outputs": [],
   "source": [
    "def ascii_capitalize(string):\n",
    "    string=string.lower()\n",
    "    \n",
    "    l=[i.upper() if ord(i) in range(91,123) and ord(i)%2==0 else i for i in string ]\n",
    "        \n",
    "    return \"\".join(l)"
   ]
  },
  {
   "cell_type": "code",
   "execution_count": 12,
   "id": "7f724bd9",
   "metadata": {},
   "outputs": [
    {
     "data": {
      "text/plain": [
       "'To Be oR NoT To Be!'"
      ]
     },
     "execution_count": 12,
     "metadata": {},
     "output_type": "execute_result"
    }
   ],
   "source": [
    "ascii_capitalize(\"to be or not to be!\")"
   ]
  },
  {
   "cell_type": "code",
   "execution_count": null,
   "id": "780a7d6b",
   "metadata": {},
   "outputs": [],
   "source": []
  }
 ],
 "metadata": {
  "kernelspec": {
   "display_name": "Python 3",
   "language": "python",
   "name": "python3"
  },
  "language_info": {
   "codemirror_mode": {
    "name": "ipython",
    "version": 3
   },
   "file_extension": ".py",
   "mimetype": "text/x-python",
   "name": "python",
   "nbconvert_exporter": "python",
   "pygments_lexer": "ipython3",
   "version": "3.8.8"
  }
 },
 "nbformat": 4,
 "nbformat_minor": 5
}
