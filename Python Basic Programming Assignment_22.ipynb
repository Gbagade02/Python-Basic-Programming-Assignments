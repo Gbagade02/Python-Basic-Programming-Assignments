{
 "cells": [
  {
   "cell_type": "markdown",
   "id": "bafcbb74",
   "metadata": {},
   "source": [
    "### Question1\n",
    "Create a function that takes three parameters where:<br>\n",
    " x is the start of the range (inclusive).<br>\n",
    " y is the end of the range (inclusive).<br>\n",
    " n is the divisor to be checked against.<br>\n",
    "Return an ordered list with numbers in the range that are divisible by the third parameter n.<br>\n",
    "Return an empty list if there are no numbers that are divisible by n.<br>\n",
    "Examples<br>\n",
    "list_operation(1, 10, 3) ➞ [3, 6, 9]<br>\n",
    "list_operation(7, 9, 2) ➞ [8]<br>\n",
    "list_operation(15, 20, 7) ➞ []"
   ]
  },
  {
   "cell_type": "code",
   "execution_count": 1,
   "id": "4abb4480",
   "metadata": {},
   "outputs": [],
   "source": [
    "def list_operation(x, y, n):\n",
    "    return [i for i in range(x,y) if i%n==0]"
   ]
  },
  {
   "cell_type": "code",
   "execution_count": 2,
   "id": "0e3f6805",
   "metadata": {},
   "outputs": [
    {
     "data": {
      "text/plain": [
       "[3, 6, 9]"
      ]
     },
     "execution_count": 2,
     "metadata": {},
     "output_type": "execute_result"
    }
   ],
   "source": [
    "list_operation(1, 10, 3)"
   ]
  },
  {
   "cell_type": "markdown",
   "id": "c199b1bb",
   "metadata": {},
   "source": [
    "### Question2\n",
    "Create a function that takes in two lists and returns True if the second list follows the first list\n",
    "by one element, and False otherwise. In other words, determine if the second list is the first\n",
    "list shifted to the right by 1.<br>\n",
    "Examples<br>\n",
    "simon_says([1, 2], [5, 1]) ➞ True<br>\n",
    "simon_says([1, 2], [5, 5]) ➞ False\n",
    "simon_says([1, 2, 3, 4, 5], [0, 1, 2, 3, 4]) ➞ True<br>\n",
    "simon_says([1, 2, 3, 4, 5], [5, 5, 1, 2, 3]) ➞ False<br>\n",
    "Notes<br>\n",
    " Both input lists will be of the same length, and will have a minimum length of 2.<br>\n",
    " The values of the 0-indexed element in the second list and the n-1th indexed element\n",
    "in the first list do not matter."
   ]
  },
  {
   "cell_type": "code",
   "execution_count": 3,
   "id": "fb7197d0",
   "metadata": {},
   "outputs": [],
   "source": [
    "def simon_says(List1,List2):\n",
    "    if len(List1)==len(List2):\n",
    "        if List1[-2] == List2[-1]:\n",
    "            return True\n",
    "        else:\n",
    "            return False\n",
    "    else:\n",
    "        print(\"Both list length not same\")"
   ]
  },
  {
   "cell_type": "code",
   "execution_count": 4,
   "id": "39709719",
   "metadata": {},
   "outputs": [
    {
     "data": {
      "text/plain": [
       "True"
      ]
     },
     "execution_count": 4,
     "metadata": {},
     "output_type": "execute_result"
    }
   ],
   "source": [
    "simon_says([1, 2, 3, 4, 5], [0, 1, 2, 3, 4])"
   ]
  },
  {
   "cell_type": "code",
   "execution_count": 6,
   "id": "9b5f41dc",
   "metadata": {},
   "outputs": [
    {
     "data": {
      "text/plain": [
       "False"
      ]
     },
     "execution_count": 6,
     "metadata": {},
     "output_type": "execute_result"
    }
   ],
   "source": [
    "simon_says([1, 2, 3, 4, 5], [5, 5, 1, 2, 3])"
   ]
  },
  {
   "cell_type": "markdown",
   "id": "4c22f160",
   "metadata": {},
   "source": [
    "### Question3\n",
    "A group of friends have decided to start a secret society. The name will be the first letter of\n",
    "each of their names, sorted in alphabetical order.<br>\n",
    "Create a function that takes in a list of names and returns the name of the secret society.<br>\n",
    "\n",
    "Examples<br>\n",
    "society_name([&quot;Adam&quot;, &quot;Sarah&quot;, &quot;Malcolm&quot;]) ➞ &quot;AMS&quot;<br>\n",
    "society_name([&quot;Harry&quot;, &quot;Newt&quot;, &quot;Luna&quot;, &quot;Cho&quot;]) ➞ &quot;CHLN&quot;<br>\n",
    "society_name([&quot;Phoebe&quot;, &quot;Chandler&quot;, &quot;Rachel&quot;, &quot;Ross&quot;, &quot;Monica&quot;, &quot;Joey&quot;])"
   ]
  },
  {
   "cell_type": "code",
   "execution_count": 7,
   "id": "2121d793",
   "metadata": {},
   "outputs": [],
   "source": [
    "def society_name(list_name):\n",
    "    secret_society=\"\"\n",
    "    for i in list_name:\n",
    "        secret_society=secret_society+i[0]\n",
    "    return \"\".join(sorted(secret_society))"
   ]
  },
  {
   "cell_type": "code",
   "execution_count": 8,
   "id": "4b5bdbe8",
   "metadata": {},
   "outputs": [
    {
     "data": {
      "text/plain": [
       "'CJMPRR'"
      ]
     },
     "execution_count": 8,
     "metadata": {},
     "output_type": "execute_result"
    }
   ],
   "source": [
    "society_name([\"Phoebe\", \"Chandler\", \"Rachel\", \"Ross\", \"Monica\", \"Joey\"])"
   ]
  },
  {
   "cell_type": "markdown",
   "id": "8143af4e",
   "metadata": {},
   "source": [
    "### Question4\n",
    "An isogram is a word that has no duplicate letters. Create a function that takes a string and\n",
    "returns either True or False depending on whether or not it&#39;s an &quot;isogram&quot;.<br>\n",
    "Examples<br>\n",
    "is_isogram(&quot;Algorism&quot;) ➞ True<br>\n",
    "is_isogram(&quot;PasSword&quot;) ➞ False<br>\n",
    "Not case sensitive.<br>\n",
    "is_isogram(&quot;Consecutive&quot;) ➞ False<br>\n",
    "Notes<br>\n",
    " Ignore letter case (should not be case sensitive).<br>\n",
    " All test cases contain valid one word strings."
   ]
  },
  {
   "cell_type": "code",
   "execution_count": 9,
   "id": "83c43d99",
   "metadata": {},
   "outputs": [],
   "source": [
    "def is_isogram(string):\n",
    "    if len(set(string.lower())) == len(string):\n",
    "        return True\n",
    "    else:\n",
    "        return False"
   ]
  },
  {
   "cell_type": "code",
   "execution_count": 10,
   "id": "aa14d1f8",
   "metadata": {},
   "outputs": [
    {
     "data": {
      "text/plain": [
       "True"
      ]
     },
     "execution_count": 10,
     "metadata": {},
     "output_type": "execute_result"
    }
   ],
   "source": [
    "is_isogram(\"Algorism\") "
   ]
  },
  {
   "cell_type": "code",
   "execution_count": 11,
   "id": "860fcbda",
   "metadata": {},
   "outputs": [
    {
     "data": {
      "text/plain": [
       "False"
      ]
     },
     "execution_count": 11,
     "metadata": {},
     "output_type": "execute_result"
    }
   ],
   "source": [
    "is_isogram(\"PasSword\") "
   ]
  },
  {
   "cell_type": "code",
   "execution_count": 12,
   "id": "31f555a8",
   "metadata": {},
   "outputs": [
    {
     "data": {
      "text/plain": [
       "False"
      ]
     },
     "execution_count": 12,
     "metadata": {},
     "output_type": "execute_result"
    }
   ],
   "source": [
    "is_isogram(\"Consecutive\")"
   ]
  },
  {
   "cell_type": "markdown",
   "id": "92dd5b79",
   "metadata": {},
   "source": [
    "### Question5\n",
    "Create a function that takes a string and returns True or False, depending on whether the\n",
    "characters are in order or not.<br>\n",
    "Examples<br>\n",
    "is_in_order(&quot;abc&quot;) ➞ True<br>\n",
    "is_in_order(&quot;edabit&quot;) ➞ False<br>\n",
    "is_in_order(&quot;123&quot;) ➞ True<br>\n",
    "is_in_order(&quot;xyzz&quot;) ➞ True<br>\n",
    "Notes<br>\n",
    "You don&#39;t have to handle empty strings."
   ]
  },
  {
   "cell_type": "code",
   "execution_count": 13,
   "id": "7fb62076",
   "metadata": {},
   "outputs": [],
   "source": [
    "def is_in_order(string):\n",
    "        sorted_string=\"\".join(sorted(string))\n",
    "        if string == sorted_string :\n",
    "            return True\n",
    "        else:\n",
    "            return False"
   ]
  },
  {
   "cell_type": "code",
   "execution_count": 14,
   "id": "dcb8d114",
   "metadata": {},
   "outputs": [
    {
     "data": {
      "text/plain": [
       "True"
      ]
     },
     "execution_count": 14,
     "metadata": {},
     "output_type": "execute_result"
    }
   ],
   "source": [
    "is_in_order(\"abc\")"
   ]
  },
  {
   "cell_type": "code",
   "execution_count": 15,
   "id": "66d215b9",
   "metadata": {},
   "outputs": [
    {
     "data": {
      "text/plain": [
       "False"
      ]
     },
     "execution_count": 15,
     "metadata": {},
     "output_type": "execute_result"
    }
   ],
   "source": [
    "\n",
    "is_in_order(\"edabit\") "
   ]
  },
  {
   "cell_type": "code",
   "execution_count": 16,
   "id": "9c49683b",
   "metadata": {},
   "outputs": [
    {
     "data": {
      "text/plain": [
       "True"
      ]
     },
     "execution_count": 16,
     "metadata": {},
     "output_type": "execute_result"
    }
   ],
   "source": [
    "\n",
    "is_in_order(\"123\")"
   ]
  },
  {
   "cell_type": "code",
   "execution_count": null,
   "id": "0884910d",
   "metadata": {},
   "outputs": [],
   "source": []
  }
 ],
 "metadata": {
  "kernelspec": {
   "display_name": "Python 3",
   "language": "python",
   "name": "python3"
  },
  "language_info": {
   "codemirror_mode": {
    "name": "ipython",
    "version": 3
   },
   "file_extension": ".py",
   "mimetype": "text/x-python",
   "name": "python",
   "nbconvert_exporter": "python",
   "pygments_lexer": "ipython3",
   "version": "3.8.8"
  }
 },
 "nbformat": 4,
 "nbformat_minor": 5
}
