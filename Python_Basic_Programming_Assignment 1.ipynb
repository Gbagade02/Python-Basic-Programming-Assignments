{
 "cells": [
  {
   "cell_type": "markdown",
   "id": "ed85cfdb",
   "metadata": {},
   "source": [
    "### 1. Write a Python program to print \"Hello Python\"? "
   ]
  },
  {
   "cell_type": "code",
   "execution_count": 1,
   "id": "d50126da",
   "metadata": {},
   "outputs": [
    {
     "name": "stdout",
     "output_type": "stream",
     "text": [
      "Hello Python\n"
     ]
    }
   ],
   "source": [
    "print(\"Hello Python\")"
   ]
  },
  {
   "cell_type": "markdown",
   "id": "b6b83c07",
   "metadata": {},
   "source": [
    "### 2. Write a Python program to do arithmetical operations addition and division.? "
   ]
  },
  {
   "cell_type": "code",
   "execution_count": 4,
   "id": "1ed7ce54",
   "metadata": {},
   "outputs": [
    {
     "name": "stdout",
     "output_type": "stream",
     "text": [
      "9\n",
      "2.0\n"
     ]
    }
   ],
   "source": [
    "def addition(a, b):\n",
    "    return a + b\n",
    "def divison(a, b):\n",
    "    return a/b\n",
    "print(addition(4, 5))\n",
    "print(divison(10,5))"
   ]
  },
  {
   "cell_type": "code",
   "execution_count": 5,
   "id": "9a59bbfd",
   "metadata": {},
   "outputs": [
    {
     "name": "stdout",
     "output_type": "stream",
     "text": [
      "Enter first value 15\n",
      "Enter second value 5\n",
      "\n",
      "Addition of 15 & 5 is 20\n",
      "\n",
      "Division of 15 & 5 is 3\n"
     ]
    }
   ],
   "source": [
    "#Takeing input with user\n",
    "a=int(input(\"Enter first value \"))\n",
    "b=int(input(\"Enter second value \"))\n",
    "#Addition perform\n",
    "print()\n",
    "print(\"Addition of {} & {} is {}\".format(a,b,a+b))\n",
    "print()\n",
    "#Division perform\n",
    "print(\"Division of {} & {} is {}\".format(a,b,a//b))"
   ]
  },
  {
   "cell_type": "markdown",
   "id": "e6406a30",
   "metadata": {},
   "source": [
    "### 3. Write a Python program to find the Area of triangle ?"
   ]
  },
  {
   "cell_type": "code",
   "execution_count": 6,
   "id": "d29b8196",
   "metadata": {},
   "outputs": [],
   "source": [
    "# Area of  triangle formula is (base * height) /2\n",
    "\n",
    "def area_of_triangle(base, height):\n",
    "    return (base * height) // 2"
   ]
  },
  {
   "cell_type": "code",
   "execution_count": 7,
   "id": "b506cb89",
   "metadata": {},
   "outputs": [
    {
     "name": "stdout",
     "output_type": "stream",
     "text": [
      "75\n"
     ]
    }
   ],
   "source": [
    "print(area_of_triangle(10, 15))"
   ]
  },
  {
   "cell_type": "markdown",
   "id": "e799dae6",
   "metadata": {},
   "source": [
    "### 4. Write a Python program to swap two variables?"
   ]
  },
  {
   "cell_type": "code",
   "execution_count": 13,
   "id": "ceadcc79",
   "metadata": {},
   "outputs": [
    {
     "name": "stdout",
     "output_type": "stream",
     "text": [
      "Before swapping  a and b is 5 10\n",
      "after sqapping a and b is 10 5\n"
     ]
    }
   ],
   "source": [
    "a = 5\n",
    "b = 10\n",
    "print(\"Before swapping  a and b is\", a,b)\n",
    "a, b = b, a\n",
    "print(\"after sqapping a and b is\", a, b)"
   ]
  },
  {
   "cell_type": "markdown",
   "id": "5a469db7",
   "metadata": {},
   "source": [
    "### 5. Write a Python program to generate a random number?"
   ]
  },
  {
   "cell_type": "code",
   "execution_count": 19,
   "id": "d23e436e",
   "metadata": {},
   "outputs": [
    {
     "name": "stdout",
     "output_type": "stream",
     "text": [
      "0.7813215284897226\n",
      "33\n",
      "74\n"
     ]
    }
   ],
   "source": [
    "import random\n",
    "print(random.random())\n",
    "print(random.randint(20,50))\n",
    "print(random.randrange(0,200,2))"
   ]
  }
 ],
 "metadata": {
  "kernelspec": {
   "display_name": "Python 3",
   "language": "python",
   "name": "python3"
  },
  "language_info": {
   "codemirror_mode": {
    "name": "ipython",
    "version": 3
   },
   "file_extension": ".py",
   "mimetype": "text/x-python",
   "name": "python",
   "nbconvert_exporter": "python",
   "pygments_lexer": "ipython3",
   "version": "3.8.8"
  }
 },
 "nbformat": 4,
 "nbformat_minor": 5
}
