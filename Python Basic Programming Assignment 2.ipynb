{
 "cells": [
  {
   "cell_type": "markdown",
   "id": "f16d3389",
   "metadata": {},
   "source": [
    "### 1. Write a Python program to convert kilometers to miles?"
   ]
  },
  {
   "cell_type": "markdown",
   "id": "5df77721",
   "metadata": {},
   "source": [
    "Fomula: Mile = kilometer/1.609\n",
    "\n",
    "        1 kilo = 0.621371 miles"
   ]
  },
  {
   "cell_type": "code",
   "execution_count": 1,
   "id": "9cca8bed",
   "metadata": {},
   "outputs": [
    {
     "name": "stdout",
     "output_type": "stream",
     "text": [
      "Enter Kilometer 15\n",
      "15 kilometer is 9.322560596643878 miles\n"
     ]
    }
   ],
   "source": [
    "# Taking user input for kilometer\n",
    "kilometer=int(input(\"Enter Kilometer \"))\n",
    "\n",
    "#conversion to miles by  kilometer by divide kilometer with 1.609\n",
    "\n",
    "miles = kilometer / 1.609\n",
    "\n",
    "print(\"{} kilometer is {} miles\".format(kilometer,miles))"
   ]
  },
  {
   "cell_type": "markdown",
   "id": "3c30f217",
   "metadata": {},
   "source": [
    "### 2. Write a Python program to convert Celsius to Fahrenheit?"
   ]
  },
  {
   "cell_type": "markdown",
   "id": "79494dd6",
   "metadata": {},
   "source": [
    "formula : (0°C × 9/5) + 32 = 32°F"
   ]
  },
  {
   "cell_type": "code",
   "execution_count": 2,
   "id": "e77aa097",
   "metadata": {},
   "outputs": [
    {
     "name": "stdout",
     "output_type": "stream",
     "text": [
      "Enter Celsius 12\n",
      "12 Celsius is 53.6 Fahrenheit\n"
     ]
    }
   ],
   "source": [
    "# Taking user input for Celsius\n",
    "Celsius=int(input(\"Enter Celsius \"))\n",
    "\n",
    "#conversion to Celsius by  Fahrenheit  (Celsius × 9/5) + 32\n",
    "\n",
    "Fahrenheit = (Celsius*(9/5))+32\n",
    "\n",
    "print(\"{} Celsius is {} Fahrenheit\".format(Celsius,Fahrenheit))"
   ]
  },
  {
   "cell_type": "markdown",
   "id": "214d6cf6",
   "metadata": {},
   "source": [
    "### 3. Write a Python program to display calendar?"
   ]
  },
  {
   "cell_type": "code",
   "execution_count": 3,
   "id": "ce31b3cd",
   "metadata": {},
   "outputs": [
    {
     "name": "stdout",
     "output_type": "stream",
     "text": [
      "Enter the year  -2022\n",
      "Enter the month- 9\n",
      "\n",
      "    September 2022\n",
      "Mo Tu We Th Fr Sa Su\n",
      "          1  2  3  4\n",
      " 5  6  7  8  9 10 11\n",
      "12 13 14 15 16 17 18\n",
      "19 20 21 22 23 24 25\n",
      "26 27 28 29 30\n",
      "\n"
     ]
    }
   ],
   "source": [
    "#import  calendar\n",
    "import calendar\n",
    "\n",
    "year=int(input(\"Enter the year  -\"))\n",
    "month=int(input(\"Enter the month- \"))\n",
    "\n",
    "#display calender\n",
    "c=calendar.month(year,month)\n",
    "print(\"\\n\",c)"
   ]
  },
  {
   "cell_type": "markdown",
   "id": "366c91b0",
   "metadata": {},
   "source": [
    "### 4. Write a Python program to solve quadratic equation?"
   ]
  },
  {
   "cell_type": "code",
   "execution_count": 10,
   "id": "a112749d",
   "metadata": {},
   "outputs": [
    {
     "name": "stdout",
     "output_type": "stream",
     "text": [
      "Enter a: 12.5\n",
      "Enter b: 13.5\n",
      "Enter c: 14.5\n",
      "The solution are (-0.54-0.9318798205777395j) and (-0.54+0.9318798205777395j)\n"
     ]
    }
   ],
   "source": [
    "# import complex math module  \n",
    "import cmath  \n",
    "a = float(input('Enter a: '))  \n",
    "b = float(input('Enter b: '))  \n",
    "c = float(input('Enter c: '))  \n",
    "  \n",
    "# calculate the discriminant  \n",
    "d = (b**2) - (4*a*c)  \n",
    "  \n",
    "# two solutions  ((-b ± (b ** 2 - 4 * a * c) ** 0.5) / (2 * a)) \n",
    "\n",
    "sol1 = complex((-b-cmath.sqrt(d))/(2*a)) \n",
    "sol2 = complex((-b+cmath.sqrt(d))/(2*a)) \n",
    "print('The solution are {0} and {1}'.format(sol1,sol2))"
   ]
  },
  {
   "cell_type": "markdown",
   "id": "f6837dbc",
   "metadata": {},
   "source": [
    "### 5.Write a Python program to swap two variables without temp variable?"
   ]
  },
  {
   "cell_type": "code",
   "execution_count": 11,
   "id": "10d277fb",
   "metadata": {},
   "outputs": [
    {
     "name": "stdout",
     "output_type": "stream",
     "text": [
      "Enter first value 15\n",
      "Enter second value 12\n",
      "Before swaping x=15,y=12\n",
      "After swaping x=12,y=15\n"
     ]
    }
   ],
   "source": [
    "x=input(\"Enter first value \")\n",
    "y=input(\"Enter second value \")\n",
    "\n",
    "#Before swaping\n",
    "\n",
    "print(\"Before swaping x={},y={}\".format(x,y))\n",
    "\n",
    "#swaping\n",
    "x,y=y,x\n",
    "\n",
    "#After swaping\n",
    "print(\"After swaping x={},y={}\".format(x,y))"
   ]
  },
  {
   "cell_type": "code",
   "execution_count": null,
   "id": "41ad5848",
   "metadata": {},
   "outputs": [],
   "source": []
  }
 ],
 "metadata": {
  "kernelspec": {
   "display_name": "Python 3",
   "language": "python",
   "name": "python3"
  },
  "language_info": {
   "codemirror_mode": {
    "name": "ipython",
    "version": 3
   },
   "file_extension": ".py",
   "mimetype": "text/x-python",
   "name": "python",
   "nbconvert_exporter": "python",
   "pygments_lexer": "ipython3",
   "version": "3.8.8"
  }
 },
 "nbformat": 4,
 "nbformat_minor": 5
}
