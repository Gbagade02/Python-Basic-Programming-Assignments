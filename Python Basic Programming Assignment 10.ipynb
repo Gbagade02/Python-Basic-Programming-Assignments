{
 "cells": [
  {
   "cell_type": "markdown",
   "id": "c123a353",
   "metadata": {},
   "source": [
    "### Python Basic Programming Assignment 10"
   ]
  },
  {
   "cell_type": "markdown",
   "id": "37e0a541",
   "metadata": {},
   "source": [
    "### 1. Write a Python program to find sum of elements in list? "
   ]
  },
  {
   "cell_type": "code",
   "execution_count": 1,
   "id": "a6941ce0",
   "metadata": {},
   "outputs": [
    {
     "name": "stdout",
     "output_type": "stream",
     "text": [
      "Sum all number in a list:  52\n"
     ]
    }
   ],
   "source": [
    "lst=[4,8,3,7,6,3,7,10,4]\n",
    "print(\"Sum all number in a list: \",sum(lst))"
   ]
  },
  {
   "cell_type": "markdown",
   "id": "bc2306a4",
   "metadata": {},
   "source": [
    "### 2. Write a Python program to Multiply all numbers in the list?"
   ]
  },
  {
   "cell_type": "code",
   "execution_count": 2,
   "id": "bd5a8a78",
   "metadata": {},
   "outputs": [
    {
     "name": "stdout",
     "output_type": "stream",
     "text": [
      "Multiply all number in a list:  3386880\n"
     ]
    }
   ],
   "source": [
    "mul=1\n",
    "for num in lst:\n",
    "    mul=mul*num\n",
    "print(\"Multiply all number in a list: \",mul)"
   ]
  },
  {
   "cell_type": "markdown",
   "id": "1127d070",
   "metadata": {},
   "source": [
    "### 3. Write a Python program to find smallest number in a list?"
   ]
  },
  {
   "cell_type": "code",
   "execution_count": 3,
   "id": "20889746",
   "metadata": {},
   "outputs": [
    {
     "name": "stdout",
     "output_type": "stream",
     "text": [
      "Original no. :  [4, 8, 3, 7, 6, 3, 7, 10, 4]\n",
      "Smallest number in a list:  3\n"
     ]
    }
   ],
   "source": [
    "print(\"Original no. : \",lst)\n",
    "print(\"Smallest number in a list: \",min(lst))"
   ]
  },
  {
   "cell_type": "markdown",
   "id": "cf63eda5",
   "metadata": {},
   "source": [
    "### 4. Write a Python program to find largest number in a list?"
   ]
  },
  {
   "cell_type": "code",
   "execution_count": 4,
   "id": "f711b3fb",
   "metadata": {},
   "outputs": [
    {
     "name": "stdout",
     "output_type": "stream",
     "text": [
      "Original no. :  [4, 8, 3, 7, 6, 3, 7, 10, 4]\n",
      "Smallest number in a list:  10\n"
     ]
    }
   ],
   "source": [
    "print(\"Original no. : \",lst)\n",
    "print(\"Smallest number in a list: \",max(lst))"
   ]
  },
  {
   "cell_type": "markdown",
   "id": "29670a96",
   "metadata": {},
   "source": [
    "### 5. Write a Python program to find second largest number in a list?"
   ]
  },
  {
   "cell_type": "code",
   "execution_count": 5,
   "id": "84e5d842",
   "metadata": {},
   "outputs": [
    {
     "name": "stdout",
     "output_type": "stream",
     "text": [
      "Sorted List :  [10, 8, 7, 7, 6, 4, 4, 3, 3]\n",
      "Second largest number in a list:  8\n"
     ]
    }
   ],
   "source": [
    "sorted_list=sorted(lst,reverse=True)\n",
    "print(\"Sorted List : \",sorted_list)\n",
    "print(\"Second largest number in a list: \",sorted_list[1])"
   ]
  },
  {
   "cell_type": "markdown",
   "id": "b85825d7",
   "metadata": {},
   "source": [
    "### 6. Write a Python program to find N largest elements from a list?"
   ]
  },
  {
   "cell_type": "code",
   "execution_count": 6,
   "id": "e7257260",
   "metadata": {},
   "outputs": [
    {
     "name": "stdout",
     "output_type": "stream",
     "text": [
      "Sorted List :  [10, 8, 7, 7, 6, 4, 4, 3, 3]\n",
      "Enter the N  element : 5\n",
      "N largest elements from a list:  [10, 8, 7, 7, 6]\n"
     ]
    }
   ],
   "source": [
    "print(\"Sorted List : \",sorted_list)\n",
    "n=int(input(\"Enter the N  element : \"))\n",
    "\n",
    "print(\"N largest elements from a list: \",sorted_list[:n])"
   ]
  },
  {
   "cell_type": "markdown",
   "id": "3357d945",
   "metadata": {},
   "source": [
    "### 7. Write a Python program to print even numbers in a list?"
   ]
  },
  {
   "cell_type": "code",
   "execution_count": 7,
   "id": "e60be9d9",
   "metadata": {},
   "outputs": [
    {
     "name": "stdout",
     "output_type": "stream",
     "text": [
      "Original no. :  [4, 8, 3, 7, 6, 3, 7, 10, 4]\n",
      "Even number in a list:  [4, 8, 6, 10, 4]\n"
     ]
    }
   ],
   "source": [
    "even=[num for num in lst if num%2==0]\n",
    "print(\"Original no. : \",lst)\n",
    "print(\"Even number in a list: \",even)"
   ]
  },
  {
   "cell_type": "markdown",
   "id": "9b467a54",
   "metadata": {},
   "source": [
    "### 8. Write a Python program to print odd numbers in a List? "
   ]
  },
  {
   "cell_type": "code",
   "execution_count": 8,
   "id": "80f5e1ce",
   "metadata": {},
   "outputs": [
    {
     "name": "stdout",
     "output_type": "stream",
     "text": [
      "Original no. :  [4, 8, 3, 7, 6, 3, 7, 10, 4]\n",
      "Even number in a list:  [3, 7, 3, 7]\n"
     ]
    }
   ],
   "source": [
    "odd=[num for num in lst if num%2!=0]\n",
    "print(\"Original no. : \",lst)\n",
    "print(\"Even number in a list: \",odd)"
   ]
  },
  {
   "cell_type": "markdown",
   "id": "efbb5e66",
   "metadata": {},
   "source": [
    "### 9. Write a Python program to Remove empty List from List?"
   ]
  },
  {
   "cell_type": "code",
   "execution_count": 9,
   "id": "5fd4108f",
   "metadata": {},
   "outputs": [
    {
     "name": "stdout",
     "output_type": "stream",
     "text": [
      "Original no. :  [5, 6, [], 3, [], [], 9]\n",
      "Remove empty List from List:  [5, 6, 3, 9]\n"
     ]
    }
   ],
   "source": [
    "Emtpy_list = [5, 6, [], 3, [], [], 9]\n",
    "remove_empty=[num for num in Emtpy_list if num!=[]]\n",
    "print(\"Original no. : \",Emtpy_list)\n",
    "print(\"Remove empty List from List: \",remove_empty)"
   ]
  },
  {
   "cell_type": "markdown",
   "id": "077fa707",
   "metadata": {},
   "source": [
    "### 10. Write a Python program to Cloning or Copying a list?"
   ]
  },
  {
   "cell_type": "code",
   "execution_count": 10,
   "id": "8493877f",
   "metadata": {},
   "outputs": [
    {
     "name": "stdout",
     "output_type": "stream",
     "text": [
      "Original no. :  [4, 8, 3, 7, 6, 3, 7, 10, 4]\n",
      "Cloning or Copying list:  [4, 8, 3, 7, 6, 3, 7, 10, 4]\n"
     ]
    }
   ],
   "source": [
    "print(\"Original no. : \",lst)\n",
    "print(\"Cloning or Copying list: \",lst.copy())"
   ]
  },
  {
   "cell_type": "markdown",
   "id": "c04f4b7c",
   "metadata": {},
   "source": [
    "### 11. Write a Python program to Count occurrences of an element in a list?"
   ]
  },
  {
   "cell_type": "code",
   "execution_count": 12,
   "id": "0a3f5254",
   "metadata": {},
   "outputs": [
    {
     "name": "stdout",
     "output_type": "stream",
     "text": [
      "Enter the number want to count :3\n",
      "Original no. :  [4, 8, 3, 7, 6, 3, 7, 10, 4]\n",
      "Count occurrences of 3 element in a list:  2\n"
     ]
    }
   ],
   "source": [
    "n = int(input(\"Enter the number want to count :\"))\n",
    "\n",
    "print(\"Original no. : \",lst)\n",
    "print(f\"Count occurrences of { n } element in a list: \",lst.count(n))"
   ]
  },
  {
   "cell_type": "code",
   "execution_count": null,
   "id": "85056303",
   "metadata": {},
   "outputs": [],
   "source": []
  }
 ],
 "metadata": {
  "kernelspec": {
   "display_name": "Python 3",
   "language": "python",
   "name": "python3"
  },
  "language_info": {
   "codemirror_mode": {
    "name": "ipython",
    "version": 3
   },
   "file_extension": ".py",
   "mimetype": "text/x-python",
   "name": "python",
   "nbconvert_exporter": "python",
   "pygments_lexer": "ipython3",
   "version": "3.8.8"
  }
 },
 "nbformat": 4,
 "nbformat_minor": 5
}
