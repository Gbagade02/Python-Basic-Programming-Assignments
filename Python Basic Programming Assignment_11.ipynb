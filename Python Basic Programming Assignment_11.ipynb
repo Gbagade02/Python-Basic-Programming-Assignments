{
 "cells": [
  {
   "cell_type": "markdown",
   "id": "a2bd3392",
   "metadata": {},
   "source": [
    "### 1. Write a Python program to find words which are greater than given length k?"
   ]
  },
  {
   "cell_type": "code",
   "execution_count": 2,
   "id": "bf8983cc",
   "metadata": {},
   "outputs": [
    {
     "name": "stdout",
     "output_type": "stream",
     "text": [
      "Enter the Text :\n",
      "Gaurav Pandit Bagade\n",
      "Enter the length : 5\n",
      "\n",
      "Words greater than length 5 :  Gaurav Pandit Bagade\n"
     ]
    }
   ],
   "source": [
    "text=input(\"Enter the Text :\\n\")\n",
    "k = int(input('Enter the length : '))\n",
    "text_list=[string for string in text.split() if len(string)> k]\n",
    "\n",
    "print(f\"\\nWords greater than length {k} : \",\" \".join(text_list))"
   ]
  },
  {
   "cell_type": "markdown",
   "id": "1908a35c",
   "metadata": {},
   "source": [
    "### 2. Write a Python program for removing i-th character from a string?"
   ]
  },
  {
   "cell_type": "code",
   "execution_count": 5,
   "id": "6394c105",
   "metadata": {},
   "outputs": [
    {
     "name": "stdout",
     "output_type": "stream",
     "text": [
      "Enter the String :\n",
      "Gaurav Pandit Bagade\n",
      "Enter the length : 2\n",
      "Gurav Pandit Bagade"
     ]
    }
   ],
   "source": [
    "string=input(\"Enter the String :\\n\")\n",
    "i = int(input('Enter the length : '))\n",
    "for j in range(len(string)):\n",
    "    if j!=i-1:\n",
    "        print(string[j], end = \"\")"
   ]
  },
  {
   "cell_type": "markdown",
   "id": "a84e28c0",
   "metadata": {},
   "source": [
    "### 3. Write a Python program to split and join a string?"
   ]
  },
  {
   "cell_type": "code",
   "execution_count": 8,
   "id": "1ff00925",
   "metadata": {},
   "outputs": [
    {
     "name": "stdout",
     "output_type": "stream",
     "text": [
      "Enter the Text :\n",
      "Gaurav Pandit Bagade\n",
      "\n",
      "Split and join a string :  Gaurav-Pandit-Bagade\n"
     ]
    }
   ],
   "source": [
    "text=input(\"Enter the Text :\\n\")\n",
    "print(f\"\\nSplit and join a string : \",\"-\".join(text.split()))"
   ]
  },
  {
   "cell_type": "markdown",
   "id": "bba65a1f",
   "metadata": {},
   "source": [
    "### 4. Write a Python to check if a given string is binary string or not?"
   ]
  },
  {
   "cell_type": "code",
   "execution_count": 14,
   "id": "6fb0b846",
   "metadata": {},
   "outputs": [
    {
     "name": "stdout",
     "output_type": "stream",
     "text": [
      "Enter the string : 01010\n",
      "{'1', '0'}\n",
      "Yes\n"
     ]
    }
   ],
   "source": [
    "string =input(\"Enter the string : \")\n",
    "p = set(string)\n",
    "print(p)\n",
    "s ={'0', '1'}\n",
    "if s == p or p == {'0'} or p == {'1'}:\n",
    "    print(\"Yes\")\n",
    "else:\n",
    "    print(\"No\")"
   ]
  },
  {
   "cell_type": "markdown",
   "id": "616eaf8a",
   "metadata": {},
   "source": [
    "### 5. Write a Python program to find uncommon words from two Strings?"
   ]
  },
  {
   "cell_type": "code",
   "execution_count": 16,
   "id": "d597c01c",
   "metadata": {},
   "outputs": [
    {
     "name": "stdout",
     "output_type": "stream",
     "text": [
      "Enter the first string : Gaurav\n",
      "Enter the second string : Bagade\n"
     ]
    },
    {
     "data": {
      "text/plain": [
       "{'r', 'u', 'v'}"
      ]
     },
     "execution_count": 16,
     "metadata": {},
     "output_type": "execute_result"
    }
   ],
   "source": [
    "string1 =set(input(\"Enter the first string : \").lower())\n",
    "string2 =set(input(\"Enter the second string : \").lower())\n",
    "string1.difference(string2)"
   ]
  },
  {
   "cell_type": "markdown",
   "id": "9d26f340",
   "metadata": {},
   "source": [
    "### 6. Write a Python to find all duplicate characters in string?"
   ]
  },
  {
   "cell_type": "code",
   "execution_count": 19,
   "id": "06c9d63c",
   "metadata": {},
   "outputs": [
    {
     "name": "stdout",
     "output_type": "stream",
     "text": [
      "Enter the first string : Gaurav Pandit Bagade\n",
      "g\n",
      "a\n",
      " \n",
      "d\n"
     ]
    }
   ],
   "source": [
    "from collections import Counter\n",
    "string =input(\"Enter the first string : \").lower()\n",
    "WC = Counter(string)\n",
    "for letter, count in WC.items():\n",
    "    if (count > 1):\n",
    "        print(letter)"
   ]
  },
  {
   "cell_type": "markdown",
   "id": "e19c4e92",
   "metadata": {},
   "source": [
    "### 7. Write a Python Program to check if a string contains any special character?"
   ]
  },
  {
   "cell_type": "code",
   "execution_count": 40,
   "id": "aba2bdd2",
   "metadata": {},
   "outputs": [],
   "source": [
    "special_character=['@','_','!','#','$','%','^','(',')','&','*','<','>','?','/','}','{','~',':']"
   ]
  },
  {
   "cell_type": "code",
   "execution_count": 45,
   "id": "46732ff6",
   "metadata": {},
   "outputs": [
    {
     "name": "stdout",
     "output_type": "stream",
     "text": [
      "Enter the first string : Gaurav@#\n",
      "String contains 2 Special Charecter\n"
     ]
    }
   ],
   "source": [
    "string =input(\"Enter the first string : \")\n",
    "count=0\n",
    "for  string in string:\n",
    "    if string in special_character:\n",
    "        count+=1\n",
    "if count >0:\n",
    "    print(\"String contains\", count,\"Special Charecter\")\n",
    "else:\n",
    "    print(\"string  Not contains any special character\")"
   ]
  },
  {
   "cell_type": "code",
   "execution_count": null,
   "id": "9dabbe75",
   "metadata": {},
   "outputs": [],
   "source": []
  }
 ],
 "metadata": {
  "kernelspec": {
   "display_name": "Python 3",
   "language": "python",
   "name": "python3"
  },
  "language_info": {
   "codemirror_mode": {
    "name": "ipython",
    "version": 3
   },
   "file_extension": ".py",
   "mimetype": "text/x-python",
   "name": "python",
   "nbconvert_exporter": "python",
   "pygments_lexer": "ipython3",
   "version": "3.8.8"
  }
 },
 "nbformat": 4,
 "nbformat_minor": 5
}
