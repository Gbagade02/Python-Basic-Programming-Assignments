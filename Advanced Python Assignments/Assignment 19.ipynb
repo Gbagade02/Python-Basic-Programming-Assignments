{
 "cells": [
  {
   "cell_type": "markdown",
   "id": "cd32fbc2",
   "metadata": {},
   "source": [
    "# Assignment 19"
   ]
  },
  {
   "cell_type": "markdown",
   "id": "d3e1086d",
   "metadata": {},
   "source": [
    "### Q1. Define the relationship between a class and its instances. Is it a one-to-one or a one-to-many partnership, for example?"
   ]
  },
  {
   "cell_type": "markdown",
   "id": "7fddb334",
   "metadata": {},
   "source": [
    ": Relationship between a class and its instances is a one to many partnership."
   ]
  },
  {
   "cell_type": "markdown",
   "id": "7f87b33b",
   "metadata": {},
   "source": [
    "### Q2. What kind of data is held only in an instance?"
   ]
  },
  {
   "cell_type": "markdown",
   "id": "9a43cc23",
   "metadata": {},
   "source": [
    "Instance objects contains the Instance variables which are specific to that specific Instance object."
   ]
  },
  {
   "cell_type": "markdown",
   "id": "a055a272",
   "metadata": {},
   "source": [
    "### Q3. What kind of knowledge is stored in a class?"
   ]
  },
  {
   "cell_type": "markdown",
   "id": "27883f61",
   "metadata": {},
   "source": [
    "Class creates a user-defined data structure, which holds its own data members and member functions, which can be accessed and used by creating an instance of that class. A class is like a blueprint for an object."
   ]
  },
  {
   "cell_type": "markdown",
   "id": "4746b68c",
   "metadata": {},
   "source": [
    "### Q4. What exactly is a method, and how is it different from a regular function?"
   ]
  },
  {
   "cell_type": "markdown",
   "id": "147d1a08",
   "metadata": {},
   "source": [
    "The methods with a class can be used to access the insatnce variables of its instance. So,the object's state can be modified by its method. Function can't access the attributes of an instance of a class or can't modify the state of the object."
   ]
  },
  {
   "cell_type": "markdown",
   "id": "aa759c88",
   "metadata": {},
   "source": [
    "### Q5. Is inheritance supported in Python, and if so, what is the syntax?"
   ]
  },
  {
   "cell_type": "raw",
   "id": "0ff6b3f5",
   "metadata": {},
   "source": [
    "Yes,Python supports inheritance. The Types of Inheritence Supported by Python are:\n",
    "\n",
    "Simple Inheritence\n",
    "Multiple Inheritence\n",
    "Multilevel lInheritence\n",
    "Hybrid Inheritence\n",
    "Hierracial Inheritence"
   ]
  },
  {
   "cell_type": "code",
   "execution_count": 1,
   "id": "8e646bf4",
   "metadata": {},
   "outputs": [],
   "source": [
    "class Person:\n",
    "    def __init__(self, fname, lname):\n",
    "        self.first_name = fname\n",
    "        self.last_name = lname\n",
    "class Student(Person):\n",
    "    pass"
   ]
  },
  {
   "cell_type": "markdown",
   "id": "4822c5f7",
   "metadata": {},
   "source": [
    "### Q6. How much encapsulation (making instance or class variables private) does Python support?"
   ]
  },
  {
   "cell_type": "markdown",
   "id": "abe0ed95",
   "metadata": {},
   "source": [
    "Encapsulation describes the idea of wrapping data and the methods that work on data within one unit. This puts restrictions on accessing variables and methods directly and can prevent the accidental modification of data. To prevent accidental change, an objects variable can only be changed by an objects method."
   ]
  },
  {
   "cell_type": "markdown",
   "id": "c73227c5",
   "metadata": {},
   "source": [
    "### Q7. How do you distinguish between a class variable and an instance variable?"
   ]
  },
  {
   "cell_type": "markdown",
   "id": "0ac774b1",
   "metadata": {},
   "source": [
    "The Class Attribute is available to all the instance objects of that class. whereas Instance Attributes are accessible only to the object or Instance of that class.\n",
    "\n",
    "A single copy of Class attributes is maintained by pvm at the class level. Whereas difference copies of instance attributes are maintained by pvm at objects/instance level."
   ]
  },
  {
   "cell_type": "markdown",
   "id": "d92b8152",
   "metadata": {},
   "source": [
    "### Q8. When, if ever, can self be included in a class's method definitions?"
   ]
  },
  {
   "cell_type": "markdown",
   "id": "7f56a50e",
   "metadata": {},
   "source": [
    " Yes, self can included in class method definations to access the instance variables inside class methods."
   ]
  },
  {
   "cell_type": "markdown",
   "id": "5aa39c00",
   "metadata": {},
   "source": [
    "### Q9. What is the difference between the __add__ and the __radd__ methods ?"
   ]
  },
  {
   "cell_type": "markdown",
   "id": "82e0e60b",
   "metadata": {},
   "source": [
    ": Entering __radd__ Python will first try __add__(), and if that returns Not Implemented Python will check if the right-hand operand implements __radd__, and if it does, it will call __radd__() rather than raising a TypeError"
   ]
  },
  {
   "cell_type": "markdown",
   "id": "46ff0446",
   "metadata": {},
   "source": [
    "### Q10. When is it necessary to use a reflection method? When do you not need it, even though you support the operation in question?"
   ]
  },
  {
   "cell_type": "markdown",
   "id": "890e8748",
   "metadata": {},
   "source": [
    "Reflection method we often encounter the requirement that a method in the executing object, or a variable in the calling object, or a field of the object should be assigned, while the method name or field name can not be determined when encoding the code, and need to be input in the form of passing strings through parameters"
   ]
  },
  {
   "cell_type": "markdown",
   "id": "9aa571e6",
   "metadata": {},
   "source": [
    "### Q11. What is the __iadd__ method called?"
   ]
  },
  {
   "cell_type": "markdown",
   "id": "1b1e04da",
   "metadata": {},
   "source": [
    "__iadd__ method is called when we use implementation like a+=b which is a.__iadd__(b)"
   ]
  },
  {
   "cell_type": "markdown",
   "id": "911dbb6d",
   "metadata": {},
   "source": [
    "### Q12. Is the _ _init_ _ method inherited by subclasses? What do you do if you need to customize its behavior within a subclass ?"
   ]
  },
  {
   "cell_type": "markdown",
   "id": "840121b7",
   "metadata": {},
   "source": [
    "Yes, __init__ method will be inherited by subclasses. if we want to customize its behaviour within a subclass we can use super() method."
   ]
  }
 ],
 "metadata": {
  "kernelspec": {
   "display_name": "Python 3",
   "language": "python",
   "name": "python3"
  },
  "language_info": {
   "codemirror_mode": {
    "name": "ipython",
    "version": 3
   },
   "file_extension": ".py",
   "mimetype": "text/x-python",
   "name": "python",
   "nbconvert_exporter": "python",
   "pygments_lexer": "ipython3",
   "version": "3.8.8"
  }
 },
 "nbformat": 4,
 "nbformat_minor": 5
}
