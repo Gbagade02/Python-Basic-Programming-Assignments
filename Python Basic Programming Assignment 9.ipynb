{
 "cells": [
  {
   "cell_type": "markdown",
   "id": "43258dc5",
   "metadata": {},
   "source": [
    "### 1. Write a Python program to check if the given number is a Disarium Number?"
   ]
  },
  {
   "cell_type": "code",
   "execution_count": 1,
   "id": "ab32d286",
   "metadata": {},
   "outputs": [
    {
     "name": "stdout",
     "output_type": "stream",
     "text": [
      "Enter the Number to Check Disarium Number = 135\n",
      "The Sum of the Digits = 135\n",
      "\n",
      "135 is a Disarium Number.\n"
     ]
    }
   ],
   "source": [
    "Number = int(input(\"Enter the Number to Check Disarium Number = \"))\n",
    "length = len(str(Number))\n",
    "\n",
    "Temp = Number\n",
    "Sum = 0\n",
    "rem = 0\n",
    "\n",
    "while Temp > 0:\n",
    "    rem = Temp % 10\n",
    "    Sum = Sum + int(rem**length)\n",
    "    Temp = Temp // 10\n",
    "    length = length - 1\n",
    "\n",
    "print(\"The Sum of the Digits = %d\" %Sum)\n",
    "\n",
    "if Sum == Number:\n",
    "    print(\"\\n%d is a Disarium Number.\" %Number)\n",
    "else:\n",
    "    print(\"%d is Not a Disarium Number.\" %Number)"
   ]
  },
  {
   "cell_type": "markdown",
   "id": "1e89d87e",
   "metadata": {},
   "source": [
    "### 2. Write a Python program to print all disarium numbers between 1 to 100?"
   ]
  },
  {
   "cell_type": "code",
   "execution_count": 2,
   "id": "bde78623",
   "metadata": {},
   "outputs": [
    {
     "name": "stdout",
     "output_type": "stream",
     "text": [
      "All disarium numbers between 1 to 100 :\n",
      "\n",
      "1 2 3 4 5 6 7 8 9 89 "
     ]
    }
   ],
   "source": [
    "print(\"All disarium numbers between 1 to 100 :\\n\")\n",
    "for Number in range(1,101):\n",
    "    length = len(str(Number))\n",
    "\n",
    "    Temp = Number\n",
    "    Sum = 0\n",
    "    rem = 0\n",
    "\n",
    "    while Temp > 0:\n",
    "        rem = Temp % 10\n",
    "        Sum = Sum + int(rem**length)\n",
    "        Temp = Temp // 10\n",
    "        length = length - 1\n",
    "    if Sum == Number:\n",
    "        print(Number,end=\" \")"
   ]
  },
  {
   "cell_type": "markdown",
   "id": "5852bde4",
   "metadata": {},
   "source": [
    "### 3. Write a Python program to check if the given number is Happy Number?"
   ]
  },
  {
   "cell_type": "code",
   "execution_count": 3,
   "id": "63b2d121",
   "metadata": {},
   "outputs": [],
   "source": [
    "def is_Happy_num(n):\n",
    "    past = set()\n",
    "    while n != 1:\n",
    "#         print(\"k\",n)\n",
    "        n = sum(int(i)**2 for i in str(n))\n",
    "#         print(\"l\",n)\n",
    "#         print(\"past\",past)\n",
    "        if n in past:\n",
    "            \n",
    "            return False\n",
    "        past.add(n)\n",
    "    return True"
   ]
  },
  {
   "cell_type": "code",
   "execution_count": 4,
   "id": "2290bb87",
   "metadata": {},
   "outputs": [
    {
     "name": "stdout",
     "output_type": "stream",
     "text": [
      "True\n",
      "True\n",
      "False\n"
     ]
    }
   ],
   "source": [
    "print(is_Happy_num(7))\n",
    "print(is_Happy_num(932))\n",
    "print(is_Happy_num(6))"
   ]
  },
  {
   "cell_type": "markdown",
   "id": "99c59e08",
   "metadata": {},
   "source": [
    "### 4. Write a Python program to print all happy numbers between 1 and 100?"
   ]
  },
  {
   "cell_type": "code",
   "execution_count": 5,
   "id": "2eac7d32",
   "metadata": {},
   "outputs": [
    {
     "name": "stdout",
     "output_type": "stream",
     "text": [
      "All happy numbers between 1 to 100 :\n",
      "\n",
      "1 7 10 13 19 23 28 31 32 44 49 68 70 79 82 86 91 94 97 100 "
     ]
    }
   ],
   "source": [
    "print(\"All happy numbers between 1 to 100 :\\n\")\n",
    "for Number in range(1,101):\n",
    "     if is_Happy_num(Number) ==True:\n",
    "            print(Number, end=\" \")\n",
    "    "
   ]
  },
  {
   "cell_type": "markdown",
   "id": "fcf69690",
   "metadata": {},
   "source": [
    "### 5. Write a Python program to determine whether the given number is a Harshad Number?"
   ]
  },
  {
   "cell_type": "code",
   "execution_count": 6,
   "id": "ca3ce5d5",
   "metadata": {},
   "outputs": [],
   "source": [
    "def is_Harshad_num(num):\n",
    "    Sum=0        \n",
    "    #Calculates sum of digits    \n",
    "    for i in str(num):\n",
    "        Sum=Sum+int(i)\n",
    "        \n",
    "    if num % Sum==0:\n",
    "        print(str(num) + \" is a harshad number\")    \n",
    "    else:    \n",
    "        print(str(num) + \" is not a harshad number\")   "
   ]
  },
  {
   "cell_type": "code",
   "execution_count": 7,
   "id": "189ef720",
   "metadata": {},
   "outputs": [
    {
     "name": "stdout",
     "output_type": "stream",
     "text": [
      "120 is a harshad number\n"
     ]
    }
   ],
   "source": [
    "is_Harshad_num(120)"
   ]
  },
  {
   "cell_type": "markdown",
   "id": "71a669e7",
   "metadata": {},
   "source": [
    "### 6. Write a Python program to print all pronic numbers between 1 and 100?"
   ]
  },
  {
   "cell_type": "markdown",
   "id": "37f87437",
   "metadata": {},
   "source": [
    "The pronic number is a product of two consecutive integers of the form: n(n+1)."
   ]
  },
  {
   "cell_type": "code",
   "execution_count": 8,
   "id": "6f2843aa",
   "metadata": {},
   "outputs": [
    {
     "name": "stdout",
     "output_type": "stream",
     "text": [
      "All pronic numbers between 1 to 100 :\n",
      "\n",
      "2 6 12 20 30 42 56 72 90 "
     ]
    }
   ],
   "source": [
    "print(\"All pronic numbers between 1 to 100 :\\n\")\n",
    "for Number in range(1,101):\n",
    "    for i in range(Number):\n",
    "        if i * (i + 1) == Number:\n",
    "            print(Number,end= \" \")\n",
    "            break"
   ]
  }
 ],
 "metadata": {
  "kernelspec": {
   "display_name": "Python 3",
   "language": "python",
   "name": "python3"
  },
  "language_info": {
   "codemirror_mode": {
    "name": "ipython",
    "version": 3
   },
   "file_extension": ".py",
   "mimetype": "text/x-python",
   "name": "python",
   "nbconvert_exporter": "python",
   "pygments_lexer": "ipython3",
   "version": "3.8.8"
  }
 },
 "nbformat": 4,
 "nbformat_minor": 5
}
