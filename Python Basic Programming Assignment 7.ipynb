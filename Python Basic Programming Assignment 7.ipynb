{
 "cells": [
  {
   "cell_type": "markdown",
   "id": "a83a37b9",
   "metadata": {},
   "source": [
    "### 1. Write a Python Program to find sum of array?"
   ]
  },
  {
   "cell_type": "code",
   "execution_count": 1,
   "id": "7c4fc459",
   "metadata": {},
   "outputs": [
    {
     "name": "stdout",
     "output_type": "stream",
     "text": [
      "original : [4, 6, 8, 9, 3]\n",
      "Sum of array : 30\n"
     ]
    }
   ],
   "source": [
    "arry=[4,6,8,9,3]\n",
    "Sum=0\n",
    "for i in arry:\n",
    "    Sum=Sum+i\n",
    "print(\"original :\",arry)\n",
    "print(\"Sum of array :\", Sum)"
   ]
  },
  {
   "cell_type": "markdown",
   "id": "502c6fc9",
   "metadata": {},
   "source": [
    "### 2. Write a Python Program to find largest element in an array?"
   ]
  },
  {
   "cell_type": "code",
   "execution_count": 2,
   "id": "2cf4edf6",
   "metadata": {},
   "outputs": [
    {
     "name": "stdout",
     "output_type": "stream",
     "text": [
      "original : [4, 6, 8, 9, 3]\n",
      "\n",
      "Largest element inm array :  9\n",
      "\n",
      "********************Shortcut*****************\n",
      "Largest element inm array :  9\n"
     ]
    }
   ],
   "source": [
    "print(\"original :\",arry)\n",
    "def largest(arr,n):\n",
    "    max = arr[0]\n",
    "    for i in range(1,n):\n",
    "        if arr[i] > max:\n",
    "            max = arr[i]\n",
    "    return max\n",
    "n=len(arry)\n",
    "print(\"\\nLargest element inm array : \", largest(arry,n))\n",
    "\n",
    "print(\"\\n********************Shortcut*****************\")\n",
    "\n",
    "print(\"Largest element inm array : \",max(arry))"
   ]
  },
  {
   "cell_type": "markdown",
   "id": "892120cd",
   "metadata": {},
   "source": [
    "### 3. Write a Python Program for array rotation?"
   ]
  },
  {
   "cell_type": "code",
   "execution_count": 3,
   "id": "3fec0dfa",
   "metadata": {},
   "outputs": [
    {
     "name": "stdout",
     "output_type": "stream",
     "text": [
      "original : [4, 6, 8, 9, 3]\n",
      "array rotation [3, 9, 8, 6, 4]\n"
     ]
    }
   ],
   "source": [
    "print(\"original :\",arry)\n",
    "print(\"array rotation\",arry[::-1])"
   ]
  },
  {
   "cell_type": "markdown",
   "id": "ac5fd277",
   "metadata": {},
   "source": [
    "### 4. Write a Python Program to Split the array and add the first part to the end?"
   ]
  },
  {
   "cell_type": "code",
   "execution_count": 4,
   "id": "0d7681a5",
   "metadata": {},
   "outputs": [
    {
     "name": "stdout",
     "output_type": "stream",
     "text": [
      "original : [4, 6, 8, 9, 3]\n",
      "6 8 9 3 4 "
     ]
    }
   ],
   "source": [
    "def splitArr(a,k): \n",
    "    b = a[:k]\n",
    "    return (a[k::]+b[::])\n",
    "\n",
    "print(\"original :\",arry)\n",
    "n = len(arry)\n",
    "position = 1\n",
    "arr = splitArr(arry, position)\n",
    "for i in range(0, n): \n",
    "    print(arr[i], end = ' ')"
   ]
  },
  {
   "cell_type": "markdown",
   "id": "e30e0264",
   "metadata": {},
   "source": [
    "### 5. Write a Python Program to check if given array is Monotonic?"
   ]
  },
  {
   "cell_type": "code",
   "execution_count": 5,
   "id": "330191f3",
   "metadata": {},
   "outputs": [
    {
     "name": "stdout",
     "output_type": "stream",
     "text": [
      "False\n"
     ]
    }
   ],
   "source": [
    "def Monotonic(A): \n",
    "    return (all(A[i] <= A[i + 1] for i in range(len(A) - 1)) or\n",
    "            all(A[i] >= A[i + 1] for i in range(len(A) - 1)))\n",
    "\n",
    "print(Monotonic(arry))"
   ]
  },
  {
   "cell_type": "code",
   "execution_count": null,
   "id": "6f1eaffb",
   "metadata": {},
   "outputs": [],
   "source": []
  }
 ],
 "metadata": {
  "kernelspec": {
   "display_name": "Python 3",
   "language": "python",
   "name": "python3"
  },
  "language_info": {
   "codemirror_mode": {
    "name": "ipython",
    "version": 3
   },
   "file_extension": ".py",
   "mimetype": "text/x-python",
   "name": "python",
   "nbconvert_exporter": "python",
   "pygments_lexer": "ipython3",
   "version": "3.8.8"
  }
 },
 "nbformat": 4,
 "nbformat_minor": 5
}
