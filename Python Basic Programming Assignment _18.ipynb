{
 "cells": [
  {
   "cell_type": "markdown",
   "id": "f929db74",
   "metadata": {},
   "source": [
    "### Question 1\n",
    "Create a function that takes a list of non-negative integers and strings and return a new list\n",
    "without the strings.<br>\n",
    "Examples<br>\n",
    "filter_list([1, 2, &quot;a&quot;, &quot;b&quot;]) ➞ [1, 2]<br>\n",
    "filter_list([1, &quot;a&quot;, &quot;b&quot;, 0, 15]) ➞ [1, 0, 15]<br>\n",
    "filter_list([1, 2, &quot;aasf&quot;, &quot;1&quot;, &quot;123&quot;, 123]) ➞ [1, 2, 123]"
   ]
  },
  {
   "cell_type": "code",
   "execution_count": 1,
   "id": "e45fa1f0",
   "metadata": {},
   "outputs": [],
   "source": [
    "def filter_list(lst):\n",
    "    return [i for i in lst if type(i)== int]"
   ]
  },
  {
   "cell_type": "code",
   "execution_count": 2,
   "id": "6b199adb",
   "metadata": {},
   "outputs": [
    {
     "data": {
      "text/plain": [
       "[1, 2]"
      ]
     },
     "execution_count": 2,
     "metadata": {},
     "output_type": "execute_result"
    }
   ],
   "source": [
    "filter_list([1, 2, \"a\", \"b\"])"
   ]
  },
  {
   "cell_type": "code",
   "execution_count": 3,
   "id": "1129564f",
   "metadata": {},
   "outputs": [
    {
     "data": {
      "text/plain": [
       "[1, 0, 15]"
      ]
     },
     "execution_count": 3,
     "metadata": {},
     "output_type": "execute_result"
    }
   ],
   "source": [
    "filter_list([1, \"a\", \"b\", 0, 15])"
   ]
  },
  {
   "cell_type": "code",
   "execution_count": 4,
   "id": "eeaf1205",
   "metadata": {},
   "outputs": [
    {
     "data": {
      "text/plain": [
       "[1, 2, 123]"
      ]
     },
     "execution_count": 4,
     "metadata": {},
     "output_type": "execute_result"
    }
   ],
   "source": [
    "filter_list([1, 2, \"aasf\", \"1\", \"123\", 123])"
   ]
  },
  {
   "cell_type": "markdown",
   "id": "07777177",
   "metadata": {},
   "source": [
    "### Question 2\n",
    "The \"Reverser\" takes a string as input and returns that string in reverse order, with the opposite case.<br>\n",
    "\n",
    "Examples<br>\n",
    "\n",
    "reverse(\"Hello World\") ➞ \"DLROw OLLEh\"<br>\n",
    "reverse(\"ReVeRsE\") ➞ \"eSrEvEr\"<br>\n",
    "reverse(\"Radar\") ➞ \"RADAr\""
   ]
  },
  {
   "cell_type": "code",
   "execution_count": 5,
   "id": "ac23a179",
   "metadata": {},
   "outputs": [],
   "source": [
    "def reverse(string):\n",
    "    return string.swapcase()[::-1]"
   ]
  },
  {
   "cell_type": "code",
   "execution_count": 6,
   "id": "17ee5cfc",
   "metadata": {},
   "outputs": [
    {
     "data": {
      "text/plain": [
       "'DLROw OLLEh'"
      ]
     },
     "execution_count": 6,
     "metadata": {},
     "output_type": "execute_result"
    }
   ],
   "source": [
    "reverse(\"Hello World\")"
   ]
  },
  {
   "cell_type": "code",
   "execution_count": 7,
   "id": "b2354622",
   "metadata": {},
   "outputs": [
    {
     "data": {
      "text/plain": [
       "'eSrEvEr'"
      ]
     },
     "execution_count": 7,
     "metadata": {},
     "output_type": "execute_result"
    }
   ],
   "source": [
    "reverse(\"ReVeRsE\")"
   ]
  },
  {
   "cell_type": "code",
   "execution_count": 8,
   "id": "de2b53e3",
   "metadata": {},
   "outputs": [
    {
     "data": {
      "text/plain": [
       "'RADAr'"
      ]
     },
     "execution_count": 8,
     "metadata": {},
     "output_type": "execute_result"
    }
   ],
   "source": [
    "reverse(\"Radar\")"
   ]
  },
  {
   "cell_type": "markdown",
   "id": "d124fbff",
   "metadata": {},
   "source": [
    "### Question 3\n",
    "You can assign variables from lists like this:<br>\n",
    "lst = [1, 2, 3, 4, 5, 6]<br>\n",
    "first = lst[0]<br>\n",
    "middle = lst[1:-1]<br>\n",
    "last = lst[-1]<br>\n",
    "print(first) ➞ outputs 1<br>\n",
    "print(middle) ➞ outputs [2, 3, 4, 5]<br>\n",
    "print(last) ➞ outputs 6<br>\n",
    "\n",
    "With Python 3, you can assign variables from lists in a much more succinct way. Create variables first, middle and last from the given list using destructuring assignment (check the Resources tab for some examples),<br> where:<br>\n",
    "\n",
    "first ➞ 1<br>\n",
    "middle ➞ [2, 3, 4, 5]<br>\n",
    "last ➞ 6<br>\n",
    "\n",
    "Your task is to unpack the list writeyourcodehere into three variables, being first,middle, and last, with middle being everything in between the first and last element. Then print all three variables."
   ]
  },
  {
   "cell_type": "code",
   "execution_count": 10,
   "id": "ec736ada",
   "metadata": {},
   "outputs": [],
   "source": [
    "def destructur(lst): \n",
    "    first ,*middle,last = lst\n",
    "    print(\"first:\", first)\n",
    "    print(\"middle:\", middle)\n",
    "    print(\"last:\", last)"
   ]
  },
  {
   "cell_type": "code",
   "execution_count": 11,
   "id": "0623f749",
   "metadata": {},
   "outputs": [
    {
     "name": "stdout",
     "output_type": "stream",
     "text": [
      "first: 1\n",
      "middle: [2, 3, 4, 5]\n",
      "last: 6\n"
     ]
    }
   ],
   "source": [
    "destructur([1, 2, 3, 4, 5, 6])"
   ]
  },
  {
   "cell_type": "markdown",
   "id": "f8bc1d29",
   "metadata": {},
   "source": [
    "### Question 4\n",
    "Write a function that calculates the factorial of a number recursively.<br>\n",
    "Examples<br>\n",
    "factorial(5) ➞ 120<br>\n",
    "factorial(3) ➞ 6<br>\n",
    "factorial(1) ➞ 1<br>\n",
    "factorial(0) ➞ 1"
   ]
  },
  {
   "cell_type": "code",
   "execution_count": 12,
   "id": "8e9d298b",
   "metadata": {},
   "outputs": [],
   "source": [
    "def factorial(num):\n",
    "    if num==1 or num==0:\n",
    "        return 1\n",
    "    else:\n",
    "        for i in range(2,num+1):\n",
    "            return (num*factorial(num-1))"
   ]
  },
  {
   "cell_type": "code",
   "execution_count": 13,
   "id": "4908f7c4",
   "metadata": {},
   "outputs": [
    {
     "data": {
      "text/plain": [
       "120"
      ]
     },
     "execution_count": 13,
     "metadata": {},
     "output_type": "execute_result"
    }
   ],
   "source": [
    "factorial(5)"
   ]
  },
  {
   "cell_type": "markdown",
   "id": "c0e8139d",
   "metadata": {},
   "source": [
    "### Question 5\n",
    "Write a function that moves all elements of one type to the end of the list.<br>\n",
    "Examples<br>\n",
    "move_to_end([1, 3, 2, 4, 4, 1], 1) ➞ [3, 2, 4, 4, 1, 1]<br>\n",
    "Move all the 1s to the end of the array.<br>\n",
    "move_to_end([7, 8, 9, 1, 2, 3, 4], 9) ➞ [7, 8, 1, 2, 3, 4, 9]<br>\n",
    "move_to_end([&quot;a&quot;, &quot;a&quot;, &quot;a&quot;, &quot;b&quot;], &quot;a&quot;) ➞ [&quot;b&quot;, &quot;a&quot;, &quot;a&quot;, &quot;a&quot;]"
   ]
  },
  {
   "cell_type": "code",
   "execution_count": 14,
   "id": "9326b143",
   "metadata": {},
   "outputs": [],
   "source": [
    "def move_to_end(List,char):\n",
    "\n",
    "    list_of_Equal=[]\n",
    "    list_of_NotEqual=[]\n",
    "    \n",
    "    for i in List:\n",
    "        if i == char:\n",
    "            list_of_Equal.append(i)\n",
    "        else:\n",
    "            list_of_NotEqual.append(i)\n",
    "            \n",
    "    return (list_of_NotEqual+list_of_Equal)\n",
    "    "
   ]
  },
  {
   "cell_type": "code",
   "execution_count": 15,
   "id": "7c0302bb",
   "metadata": {},
   "outputs": [
    {
     "data": {
      "text/plain": [
       "[3, 2, 4, 4, 1, 1]"
      ]
     },
     "execution_count": 15,
     "metadata": {},
     "output_type": "execute_result"
    }
   ],
   "source": [
    "move_to_end([1, 3, 2, 4, 4, 1], 1)"
   ]
  },
  {
   "cell_type": "code",
   "execution_count": null,
   "id": "ccad9111",
   "metadata": {},
   "outputs": [],
   "source": []
  }
 ],
 "metadata": {
  "kernelspec": {
   "display_name": "Python 3",
   "language": "python",
   "name": "python3"
  },
  "language_info": {
   "codemirror_mode": {
    "name": "ipython",
    "version": 3
   },
   "file_extension": ".py",
   "mimetype": "text/x-python",
   "name": "python",
   "nbconvert_exporter": "python",
   "pygments_lexer": "ipython3",
   "version": "3.8.8"
  }
 },
 "nbformat": 4,
 "nbformat_minor": 5
}
