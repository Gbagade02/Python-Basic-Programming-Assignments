{
 "cells": [
  {
   "cell_type": "markdown",
   "id": "9d9d43b2",
   "metadata": {},
   "source": [
    "### 1. Write a Python program to Extract Unique values dictionary values?"
   ]
  },
  {
   "cell_type": "code",
   "execution_count": 15,
   "id": "612579c6",
   "metadata": {},
   "outputs": [
    {
     "name": "stdout",
     "output_type": "stream",
     "text": [
      "Extract Unique values dictionary values :  {0, 1, 3, 4, 5, 6, 7, 8, 73, 9, 76, 55}\n"
     ]
    }
   ],
   "source": [
    "dictionary={\"a\":[4,8,6,73,7,6,3],\n",
    "           \"b\":[7,3,5,6,4,3],\n",
    "           \"c\":[4,9,1,3,0,76,55]}\n",
    "\n",
    "lst=set([val for  vals in dictionary.values() for val in vals])\n",
    "print(\"Extract Unique values dictionary values : \",lst)\n",
    "\n"
   ]
  },
  {
   "cell_type": "markdown",
   "id": "b13f75fc",
   "metadata": {},
   "source": [
    "### 2. Write a Python program to find the sum of all items in a dictionary?"
   ]
  },
  {
   "cell_type": "code",
   "execution_count": 16,
   "id": "e8f88fe5",
   "metadata": {},
   "outputs": [
    {
     "name": "stdout",
     "output_type": "stream",
     "text": [
      "Sum of all items in a dictionary :  283\n"
     ]
    }
   ],
   "source": [
    "lst=[val for  vals in dictionary.values() for val in vals]\n",
    "print(\"Sum of all items in a dictionary : \",sum(lst))"
   ]
  },
  {
   "cell_type": "markdown",
   "id": "beb66c34",
   "metadata": {},
   "source": [
    "### 3.Write a Python program to Merging two Dictionaries?"
   ]
  },
  {
   "cell_type": "code",
   "execution_count": 26,
   "id": "30663616",
   "metadata": {},
   "outputs": [
    {
     "name": "stdout",
     "output_type": "stream",
     "text": [
      "{'x': 10, 'y': 8, 'a': 6, 'b': 4}\n"
     ]
    }
   ],
   "source": [
    "def Merge(dict1, dict2):\n",
    "    for i in dict2.keys():\n",
    "        dict1[i]=dict2[i]\n",
    "    return dict1\n",
    "     \n",
    "\n",
    "dict1 = {'x': 10, 'y': 8}\n",
    "dict2 = {'a': 6, 'b': 4}\n",
    "dict3 = Merge(dict1, dict2)\n",
    "print(dict3)"
   ]
  },
  {
   "cell_type": "markdown",
   "id": "64ff9f04",
   "metadata": {},
   "source": [
    "### 4. Write a Python program to convert key-values list to flat dictionary?"
   ]
  },
  {
   "cell_type": "code",
   "execution_count": 28,
   "id": "d4690d59",
   "metadata": {},
   "outputs": [
    {
     "data": {
      "text/plain": [
       "{1: 'Jan', 2: 'Feb', 3: 'March'}"
      ]
     },
     "execution_count": 28,
     "metadata": {},
     "output_type": "execute_result"
    }
   ],
   "source": [
    "test_dict = {'month' : [1, 2, 3],\n",
    "             'name' : ['Jan', 'Feb', 'March']}\n",
    "\n",
    "dict(zip(test_dict['month'], test_dict['name']))"
   ]
  },
  {
   "cell_type": "markdown",
   "id": "860bfa7e",
   "metadata": {},
   "source": [
    "### 5. Write a Python program to insertion at the beginning in OrderedDict?"
   ]
  },
  {
   "cell_type": "code",
   "execution_count": 29,
   "id": "d36e1ef1",
   "metadata": {},
   "outputs": [
    {
     "name": "stdout",
     "output_type": "stream",
     "text": [
      "Original dict :\n",
      "  OrderedDict([('a', '1'), ('b', '2'), ('c', '3')])\n",
      "Insertion at the beginning :\n",
      "  OrderedDict([('c', '3'), ('a', '1'), ('b', '2')])\n"
     ]
    }
   ],
   "source": [
    "from collections import OrderedDict\n",
    "ordered_dict = OrderedDict([('a', '1'), ('b', '2')])\n",
    " \n",
    "# inserting items in starting of dict\n",
    "ordered_dict.update({'c':'3'})\n",
    "print(\"Original dict :\\n \",ordered_dict)\n",
    "ordered_dict.move_to_end('c', last = False)\n",
    "print(\"Insertion at the beginning :\\n \",ordered_dict)"
   ]
  },
  {
   "cell_type": "markdown",
   "id": "71737992",
   "metadata": {},
   "source": [
    "###  6. Write a Python program to check order of character in string using OrderedDict()?"
   ]
  },
  {
   "cell_type": "code",
   "execution_count": 30,
   "id": "e9ea5e81",
   "metadata": {},
   "outputs": [
    {
     "name": "stdout",
     "output_type": "stream",
     "text": [
      "True\n"
     ]
    }
   ],
   "source": [
    "from collections import OrderedDict  \n",
    "def checkOrder(string, pattern): \n",
    "    dic = OrderedDict.fromkeys(string) \n",
    "    ptr = 0\n",
    "    for key,value in dic.items(): \n",
    "        if (key == pattern[ptr]): \n",
    "            ptr = ptr + 1\n",
    "        if (ptr == (len(pattern))): \n",
    "            return 'True'\n",
    "    return 'False'\n",
    "string = 'OrderedDict'\n",
    "pattern = 'rd'\n",
    "print (checkOrder(string,pattern))"
   ]
  },
  {
   "cell_type": "markdown",
   "id": "b3021787",
   "metadata": {},
   "source": [
    "### 7. Write a Python program to sort Python Dictionaries by Key or Value?"
   ]
  },
  {
   "cell_type": "code",
   "execution_count": 31,
   "id": "5525ec47",
   "metadata": {},
   "outputs": [
    {
     "name": "stdout",
     "output_type": "stream",
     "text": [
      "OrderedDict([('Amit', 4), ('Dabi', 9), ('Pooja', 7), ('Raj', 15)])\n"
     ]
    }
   ],
   "source": [
    "from collections import OrderedDict\n",
    "dictionary3={\"Amit\":4,\n",
    "            \"Pooja\":7,\n",
    "            \"Raj\":15,\n",
    "            \"Dabi\":9}\n",
    "dict1 = OrderedDict(sorted(dictionary3.items()))\n",
    "print(dict1)"
   ]
  },
  {
   "cell_type": "code",
   "execution_count": null,
   "id": "59778d85",
   "metadata": {},
   "outputs": [],
   "source": []
  }
 ],
 "metadata": {
  "kernelspec": {
   "display_name": "Python 3",
   "language": "python",
   "name": "python3"
  },
  "language_info": {
   "codemirror_mode": {
    "name": "ipython",
    "version": 3
   },
   "file_extension": ".py",
   "mimetype": "text/x-python",
   "name": "python",
   "nbconvert_exporter": "python",
   "pygments_lexer": "ipython3",
   "version": "3.8.8"
  }
 },
 "nbformat": 4,
 "nbformat_minor": 5
}
