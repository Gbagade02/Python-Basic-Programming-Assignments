{
 "cells": [
  {
   "cell_type": "markdown",
   "id": "36af6924",
   "metadata": {},
   "source": [
    "### Question 1:\n",
    "Please write a program using generator to print the numbers which can be divisible by 5 and\n",
    "7 between 0 and n in comma separated form while n is input by console.<br>\n",
    "Example:<br>\n",
    "If the following n is given as input to the program:<br>\n",
    "100<br>\n",
    "Then, the output of the program should be:<br>\n",
    "0,35,70"
   ]
  },
  {
   "cell_type": "code",
   "execution_count": 4,
   "id": "f61e0dd5",
   "metadata": {},
   "outputs": [
    {
     "name": "stdout",
     "output_type": "stream",
     "text": [
      "0,35,70\n"
     ]
    }
   ],
   "source": [
    "def gen_divisor(num):\n",
    "    for i in range(num+1):\n",
    "        if i%5==0 and i%7==0:\n",
    "            yield i\n",
    "            \n",
    "#function for print generator you just need to call generator genrate function      \n",
    "\n",
    "def Divisor_generator_values(num):\n",
    "    list_of_gen = []\n",
    "    for i in gen_divisor(num):\n",
    "        list_of_gen.append(str(i))\n",
    "    print (\",\".join(list_of_gen) ) \n",
    "Divisor_generator_values(100)"
   ]
  },
  {
   "cell_type": "markdown",
   "id": "2163acdd",
   "metadata": {},
   "source": [
    "### Question 2:\n",
    "Please write a program using generator to print the even numbers between 0 and n in comma\n",
    "separated form while n is input by console.<br>\n",
    "Example:<br>\n",
    "If the following n is given as input to the program:<br>\n",
    "10<br>\n",
    "Then, the output of the program should be:<br>\n",
    "0,2,4,6,8,10"
   ]
  },
  {
   "cell_type": "code",
   "execution_count": 5,
   "id": "86118629",
   "metadata": {},
   "outputs": [
    {
     "name": "stdout",
     "output_type": "stream",
     "text": [
      "0,2,4,6,8,10\n"
     ]
    }
   ],
   "source": [
    "def gen_Even(num):\n",
    "    for i in range(num+1):\n",
    "        if i%2==0 :\n",
    "            yield i\n",
    "            \n",
    "#function for print generator you just need to call generator genrate function \n",
    "\n",
    "def Even_generator_values(num):\n",
    "    list_of_gen = []\n",
    "    for i in gen_Even(num):\n",
    "        list_of_gen.append(str(i))\n",
    "    print (\",\".join(list_of_gen) )\n",
    "Even_generator_values(10)"
   ]
  },
  {
   "cell_type": "markdown",
   "id": "de75e03b",
   "metadata": {},
   "source": [
    "### Question 3:\n",
    "The Fibonacci Sequence is computed based on the following formula:<br>\n",
    "f(n)=0 if n=0<br>\n",
    "f(n)=1 if n=1<br>\n",
    "f(n)=f(n-1)+f(n-2) if n&gt;1<br>\n",
    "Please write a program using list comprehension to print the Fibonacci Sequence in comma\n",
    "separated form with a given n input by console.<br>\n",
    "Example:<br>\n",
    "If the following n is given as input to the program:<br>\n",
    "7<br>\n",
    "\n",
    "Then, the output of the program should be:<br>\n",
    "0,1,1,2,3,5,8,13 "
   ]
  },
  {
   "cell_type": "code",
   "execution_count": 11,
   "id": "499050e9",
   "metadata": {},
   "outputs": [
    {
     "name": "stdout",
     "output_type": "stream",
     "text": [
      "Enter the number..\t7\n",
      "\n",
      "0,1,1,2,3,5,8,13\n"
     ]
    }
   ],
   "source": [
    "num=int(input(\"Enter the number..\\t\"))\n",
    "print()\n",
    "\n",
    " # number is 0 or 1 directlt print 0 or 1 no need to go in loop\n",
    "if num==0: \n",
    "    print(0)\n",
    "elif num==1:\n",
    "    print(1)\n",
    "    \n",
    "# if number is greater thn 1 cme into loop     \n",
    "else:\n",
    "     #initized list with 0,1,1 as we knw last_num+ first_num= fibonacci_num\n",
    "    initial_list=[0,1,1] \n",
    "    \n",
    "    # list for print without list and seperated with comma\n",
    "    finial_list=[]\n",
    "    \n",
    "    #logic here with list comprehension start loop with 2 till number and add last_num+ first_num frm iniital list\n",
    "    [initial_list.append(initial_list[-2]+initial_list[-1]) for i in range(2,num)]\n",
    "    \n",
    "    # for print the series\n",
    "    for i in initial_list:\n",
    "        finial_list.append(str(i))\n",
    "        \n",
    "    print(\",\".join(finial_list))    \n",
    "    "
   ]
  },
  {
   "cell_type": "markdown",
   "id": "687c6246",
   "metadata": {},
   "source": [
    "### Question 4:\n",
    "Assuming that we have some email addresses in the &quot;username@companyname.com&quot; format,\n",
    "please write program to print the user name of a given email address. Both user names and\n",
    "company names are composed of letters only.<br>\n",
    "Example:<br>\n",
    "If the following email address is given as input to the program:<br>\n",
    "john@google.com<br>\n",
    "Then, the output of the program should be:<br>\n",
    "john"
   ]
  },
  {
   "cell_type": "code",
   "execution_count": 14,
   "id": "3e428ef9",
   "metadata": {},
   "outputs": [],
   "source": [
    "def email_user(email):\n",
    "    return email[0:email.find(\"@\")]"
   ]
  },
  {
   "cell_type": "code",
   "execution_count": 15,
   "id": "4e7c5cf0",
   "metadata": {},
   "outputs": [
    {
     "data": {
      "text/plain": [
       "'john'"
      ]
     },
     "execution_count": 15,
     "metadata": {},
     "output_type": "execute_result"
    }
   ],
   "source": [
    "email_user(\"john@google.com\")"
   ]
  },
  {
   "cell_type": "markdown",
   "id": "4a07f6ec",
   "metadata": {},
   "source": [
    "### Question 5:\n",
    "Define a class named Shape and its subclass Square. The Square class has an init function\n",
    "which takes a length as argument. Both classes have a area function which can print the area\n",
    "of the shape where Shape&#39;s area is 0 by default."
   ]
  },
  {
   "cell_type": "code",
   "execution_count": 17,
   "id": "237dbe11",
   "metadata": {},
   "outputs": [],
   "source": [
    "class Shape:\n",
    "    def __init__(self,l):\n",
    "        self.l= l\n",
    "    def area(self):\n",
    "        return 0\n",
    "        \n",
    "class Square(Shape):\n",
    "    def __init__(self,length):\n",
    "        super().__init__\n",
    "        self.length=length\n",
    "        \n",
    "    def area(self):\n",
    "        return self.length*self.length"
   ]
  },
  {
   "cell_type": "code",
   "execution_count": 19,
   "id": "4378e863",
   "metadata": {},
   "outputs": [
    {
     "name": "stdout",
     "output_type": "stream",
     "text": [
      "Area of Square:  81\n",
      "Area of Shape:  0\n"
     ]
    }
   ],
   "source": [
    "obj_square=Square(9)\n",
    "print(\"Area of Square: \",obj_square.area())\n",
    "\n",
    "obj_shape=Shape(5)\n",
    "print(\"Area of Shape: \",obj_shape.area())\n",
    "\n"
   ]
  },
  {
   "cell_type": "code",
   "execution_count": null,
   "id": "6b328256",
   "metadata": {},
   "outputs": [],
   "source": []
  }
 ],
 "metadata": {
  "kernelspec": {
   "display_name": "Python 3",
   "language": "python",
   "name": "python3"
  },
  "language_info": {
   "codemirror_mode": {
    "name": "ipython",
    "version": 3
   },
   "file_extension": ".py",
   "mimetype": "text/x-python",
   "name": "python",
   "nbconvert_exporter": "python",
   "pygments_lexer": "ipython3",
   "version": "3.8.8"
  }
 },
 "nbformat": 4,
 "nbformat_minor": 5
}
