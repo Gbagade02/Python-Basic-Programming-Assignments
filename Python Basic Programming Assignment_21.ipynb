{
 "cells": [
  {
   "cell_type": "markdown",
   "id": "77a9c736",
   "metadata": {},
   "source": [
    "### Question1\n",
    "Write a function that takes a list and a number as arguments. Add the number to the end of\n",
    "the list, then remove the first element of the list. The function should then return the updated\n",
    "list.<br>\n",
    "Examples<br>\n",
    "next_in_line([5, 6, 7, 8, 9], 1) ➞ [6, 7, 8, 9, 1]<br>\n",
    "next_in_line([7, 6, 3, 23, 17], 10) ➞ [6, 3, 23, 17, 10]<br>\n",
    "next_in_line([1, 10, 20, 42 ], 6) ➞ [10, 20, 42, 6]<br>\n",
    "next_in_line([], 6) ➞ &quot;No list has been selected&quot;"
   ]
  },
  {
   "cell_type": "code",
   "execution_count": 1,
   "id": "2913014c",
   "metadata": {},
   "outputs": [],
   "source": [
    "def next_in_line(*args):\n",
    "    new_line=[]\n",
    "    for i in args:\n",
    "        if type(i)==list:\n",
    "            if len(i)!=0:\n",
    "                i.pop(0)\n",
    "                new_line.extend(i)\n",
    "            else:\n",
    "                return \"No list has been selected\"\n",
    "        if type(i)!=list:\n",
    "            new_line.append(i)\n",
    "    return new_line"
   ]
  },
  {
   "cell_type": "code",
   "execution_count": 2,
   "id": "7d9ecfe1",
   "metadata": {},
   "outputs": [
    {
     "data": {
      "text/plain": [
       "[10, 20, 42, 6]"
      ]
     },
     "execution_count": 2,
     "metadata": {},
     "output_type": "execute_result"
    }
   ],
   "source": [
    "next_in_line([1, 10, 20, 42 ], 6)"
   ]
  },
  {
   "cell_type": "code",
   "execution_count": 3,
   "id": "87698e52",
   "metadata": {},
   "outputs": [
    {
     "data": {
      "text/plain": [
       "'No list has been selected'"
      ]
     },
     "execution_count": 3,
     "metadata": {},
     "output_type": "execute_result"
    }
   ],
   "source": [
    "next_in_line([], 6)"
   ]
  },
  {
   "cell_type": "markdown",
   "id": "dabb3a5e",
   "metadata": {},
   "source": [
    "### Question2\n",
    "Create the function that takes a list of dictionaries and returns the sum of people&#39;s budgets.<br>\n",
    "Examples<br>\n",
    "get_budgets([<br>\n",
    "{ &quot;name&quot;: &quot;John&quot;, &quot;age&quot;: 21, &quot;budget&quot;: 23000 },<br>\n",
    "{ &quot;name&quot;: &quot;Steve&quot;, &quot;age&quot;: 32, &quot;budget&quot;: 40000 },<br>\n",
    "{ &quot;name&quot;: &quot;Martin&quot;, &quot;age&quot;: 16, &quot;budget&quot;: 2700 }<br>\n",
    "]) ➞ 65700<br>\n",
    "get_budgets([\n",
    "{ &quot;name&quot;: &quot;John&quot;, &quot;age&quot;: 21, &quot;budget&quot;: 29000 },<br>\n",
    "{ &quot;name&quot;: &quot;Steve&quot;, &quot;age&quot;: 32, &quot;budget&quot;: 32000 },<br>\n",
    "{ &quot;name&quot;: &quot;Martin&quot;, &quot;age&quot;: 16, &quot;budget&quot;: 1600 }<br>\n",
    "]) ➞ 62600"
   ]
  },
  {
   "cell_type": "code",
   "execution_count": 4,
   "id": "4325ff2e",
   "metadata": {},
   "outputs": [],
   "source": [
    "def get_budgets(*args):\n",
    "    Sum=0\n",
    "    for i in  args:\n",
    "        for j in i:\n",
    "            if type(j)==dict:\n",
    "                for key,value in j.items():\n",
    "                    if key==\"budget\":\n",
    "                        Sum=Sum+value\n",
    "    return Sum   "
   ]
  },
  {
   "cell_type": "code",
   "execution_count": 5,
   "id": "82f11dc0",
   "metadata": {},
   "outputs": [
    {
     "data": {
      "text/plain": [
       "65700"
      ]
     },
     "execution_count": 5,
     "metadata": {},
     "output_type": "execute_result"
    }
   ],
   "source": [
    "get_budgets([\n",
    "{ \"name\": \"John\", \"age\": 21, \"budget\": 23000 },\n",
    "{ \"name\": \"Steve\", \"age\": 32, \"budget\": 40000 },\n",
    "{ \"name\": \"Martin\", \"age\": 16, \"budget\": 2700 }\n",
    "])"
   ]
  },
  {
   "cell_type": "markdown",
   "id": "48cdca00",
   "metadata": {},
   "source": [
    "### Question3\n",
    "Create a function that takes a string and returns a string with its letters in alphabetical order.<br>\n",
    "Examples<br>\n",
    "alphabet_soup(\"hello\") ➞ \"ehllo\"<br>\n",
    "alphabet_soup(\"edabit\") ➞ \"abdeit\"<br>\n",
    "alphabet_soup(\"hacker\") ➞ \"acehkr\"<br>\n",
    "alphabet_soup(\"geek\") ➞ \"eegk\"<br>\n",
    "alphabet_soup(\"javascript\") ➞ \"aacijprstv\""
   ]
  },
  {
   "cell_type": "code",
   "execution_count": 6,
   "id": "9b4a9f95",
   "metadata": {},
   "outputs": [],
   "source": [
    "def alphabet_soup(string):\n",
    "    string=sorted(list(string))\n",
    "    return \"\".join(string)"
   ]
  },
  {
   "cell_type": "code",
   "execution_count": 7,
   "id": "2ba0023e",
   "metadata": {},
   "outputs": [
    {
     "data": {
      "text/plain": [
       "'aacijprstv'"
      ]
     },
     "execution_count": 7,
     "metadata": {},
     "output_type": "execute_result"
    }
   ],
   "source": [
    "alphabet_soup(\"javascript\")"
   ]
  },
  {
   "cell_type": "code",
   "execution_count": 8,
   "id": "3502a515",
   "metadata": {},
   "outputs": [
    {
     "data": {
      "text/plain": [
       "'abdeit'"
      ]
     },
     "execution_count": 8,
     "metadata": {},
     "output_type": "execute_result"
    }
   ],
   "source": [
    "alphabet_soup(\"edabit\")"
   ]
  },
  {
   "cell_type": "markdown",
   "id": "04b49254",
   "metadata": {},
   "source": [
    "### Question4\n",
    "Suppose that you invest $10,000 for 10 years at an interest rate of 6% compounded monthly.<br>\n",
    "What will be the value of your investment at the end of the 10 year period?<br>\n",
    "Create a function that accepts the principal p, the term in years t, the interest rate r, and the\n",
    "number of compounding periods per year n. The function returns the value at the end of term\n",
    "rounded to the nearest cent.<br>\n",
    "For the example above:<br>\n",
    "compound_interest(10000, 10, 0.06, 12) ➞ 18193.97<br>\n",
    "Note that the interest rate is given as a decimal and n=12 because with monthly compounding\n",
    "there are 12 periods per year. Compounding can also be done annually, quarterly, weekly, or\n",
    "daily.<br>\n",
    "Examples<br>\n",
    "compound_interest(100, 1, 0.05, 1) ➞ 105.0<br>\n",
    "compound_interest(3500, 15, 0.1, 4) ➞ 15399.26<br>\n",
    "compound_interest(100000, 20, 0.15, 365) ➞ 2007316.26"
   ]
  },
  {
   "cell_type": "code",
   "execution_count": 9,
   "id": "036ee8fe",
   "metadata": {},
   "outputs": [],
   "source": [
    "def compound_interest (P,t,r,n):\n",
    "    CI = P*(pow((1+r/n), n*t))\n",
    "    return round(CI,2)"
   ]
  },
  {
   "cell_type": "code",
   "execution_count": 10,
   "id": "23d802fb",
   "metadata": {},
   "outputs": [
    {
     "data": {
      "text/plain": [
       "2007316.26"
      ]
     },
     "execution_count": 10,
     "metadata": {},
     "output_type": "execute_result"
    }
   ],
   "source": [
    "compound_interest(100000, 20, 0.15, 365)"
   ]
  },
  {
   "cell_type": "markdown",
   "id": "de03d5ee",
   "metadata": {},
   "source": [
    "### Question5\n",
    "Write a function that takes a list of elements and returns only the integers.<br>\n",
    "Examples<br>\n",
    "return_only_integer([9, 2, \"space\", \"car\", \"lion\", 16]) ➞ [9, 2, 16]<br>\n",
    "return_only_integer([\"hello\", 81, \"basketball\", 123, \"fox\"]) ➞ [81, 123]<br>\n",
    "return_only_integer([10, \"121\", 56, 20, \"car\", 3, \"lion\"]) ➞ [10, 56, 20,3]<br>\n",
    "return_only_integer([\"String\", True, 3.3, 1]) ➞ [1]"
   ]
  },
  {
   "cell_type": "code",
   "execution_count": 11,
   "id": "b1aa6bed",
   "metadata": {},
   "outputs": [],
   "source": [
    "def return_only_integer(List):\n",
    "    \n",
    "    return [i for i in List if type(i)==int]"
   ]
  },
  {
   "cell_type": "code",
   "execution_count": 12,
   "id": "06bfe507",
   "metadata": {},
   "outputs": [
    {
     "data": {
      "text/plain": [
       "[10, 56, 20, 3]"
      ]
     },
     "execution_count": 12,
     "metadata": {},
     "output_type": "execute_result"
    }
   ],
   "source": [
    "return_only_integer([10, \"121\", 56, 20, \"car\", 3, \"lion\"])"
   ]
  },
  {
   "cell_type": "code",
   "execution_count": null,
   "id": "05a91db1",
   "metadata": {},
   "outputs": [],
   "source": []
  }
 ],
 "metadata": {
  "kernelspec": {
   "display_name": "Python 3",
   "language": "python",
   "name": "python3"
  },
  "language_info": {
   "codemirror_mode": {
    "name": "ipython",
    "version": 3
   },
   "file_extension": ".py",
   "mimetype": "text/x-python",
   "name": "python",
   "nbconvert_exporter": "python",
   "pygments_lexer": "ipython3",
   "version": "3.8.8"
  }
 },
 "nbformat": 4,
 "nbformat_minor": 5
}
