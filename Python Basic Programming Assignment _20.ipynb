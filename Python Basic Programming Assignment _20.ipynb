{
 "cells": [
  {
   "cell_type": "markdown",
   "id": "3033ba3a",
   "metadata": {},
   "source": [
    "### Question1\n",
    "Create a function that takes a list of strings and integers, and filters out the list so that it\n",
    "returns a list of integers only.<br>\n",
    "Examples<br>\n",
    "filter_list([1, 2, 3, &quot;a&quot;, &quot;b&quot;, 4]) ➞ [1, 2, 3, 4]<br>\n",
    "filter_list([&quot;A&quot;, 0, &quot;Edabit&quot;, 1729, &quot;Python&quot;, &quot;1729&quot;]) ➞ [0, 1729]<br>\n",
    "filter_list([&quot;Nothing&quot;, &quot;here&quot;]) ➞ []"
   ]
  },
  {
   "cell_type": "code",
   "execution_count": 1,
   "id": "ca6be9b0",
   "metadata": {},
   "outputs": [],
   "source": [
    "def filter_list(lst):\n",
    "    \n",
    "    return [i for i in lst if type(i)==int]"
   ]
  },
  {
   "cell_type": "code",
   "execution_count": 2,
   "id": "817ab6d7",
   "metadata": {},
   "outputs": [
    {
     "data": {
      "text/plain": [
       "[0, 1729]"
      ]
     },
     "execution_count": 2,
     "metadata": {},
     "output_type": "execute_result"
    }
   ],
   "source": [
    "filter_list([\"A\", 0, \"Edabit\", 1729, \"Python\", \"1729\"])"
   ]
  },
  {
   "cell_type": "markdown",
   "id": "e75f4249",
   "metadata": {},
   "source": [
    "### Question2\n",
    "Given a list of numbers, create a function which returns the list but with each element&#39;s\n",
    "index in the list added to itself. This means you add 0 to the number at index 0, add 1 to the\n",
    "number at index 1, etc...<br>\n",
    "Examples<br>\n",
    "add_indexes([0, 0, 0, 0, 0]) ➞ [0, 1, 2, 3, 4]<br>\n",
    "add_indexes([1, 2, 3, 4, 5]) ➞ [1, 3, 5, 7, 9]<br>\n",
    "add_indexes([5, 4, 3, 2, 1]) ➞ [5, 5, 5, 5, 5]"
   ]
  },
  {
   "cell_type": "code",
   "execution_count": 3,
   "id": "152feed7",
   "metadata": {},
   "outputs": [],
   "source": [
    "def add_indexes(lst):\n",
    "    return [i+lst[i] for i in range(len(lst))]"
   ]
  },
  {
   "cell_type": "code",
   "execution_count": 4,
   "id": "18b2dbcb",
   "metadata": {},
   "outputs": [
    {
     "data": {
      "text/plain": [
       "[1, 3, 5, 7, 9]"
      ]
     },
     "execution_count": 4,
     "metadata": {},
     "output_type": "execute_result"
    }
   ],
   "source": [
    "add_indexes([1, 2, 3, 4, 5])"
   ]
  },
  {
   "cell_type": "markdown",
   "id": "90163b3e",
   "metadata": {},
   "source": [
    "### Question3\n",
    "Create a function that takes the height and radius of a cone as arguments and returns the\n",
    "volume of the cone rounded to the nearest hundredth. See the resources tab for the formula.<br>\n",
    "\n",
    "Examples<br>\n",
    "cone_volume(3, 2) ➞ 12.57<br>\n",
    "\n",
    "cone_volume(15, 6) ➞ 565.49<br>\n",
    "cone_volume(18, 0) ➞ 0"
   ]
  },
  {
   "cell_type": "code",
   "execution_count": 5,
   "id": "f7fbed16",
   "metadata": {},
   "outputs": [],
   "source": [
    "import math\n",
    "def cone_volume(h,r):\n",
    "    v=(h/3)*(math.pi*r*r)\n",
    "    return round(v,2)"
   ]
  },
  {
   "cell_type": "code",
   "execution_count": 6,
   "id": "1d235e66",
   "metadata": {},
   "outputs": [
    {
     "data": {
      "text/plain": [
       "565.49"
      ]
     },
     "execution_count": 6,
     "metadata": {},
     "output_type": "execute_result"
    }
   ],
   "source": [
    "cone_volume(15, 6)"
   ]
  },
  {
   "cell_type": "markdown",
   "id": "7756c39f",
   "metadata": {},
   "source": [
    "### Question4\n",
    "This Triangular Number Sequence is generated from a pattern of dots that form a triangle.\n",
    "The first 5 numbers of the sequence, or dots, are:<br>\n",
    "1, 3, 6, 10, 15<br>\n",
    "This means that the first triangle has just one dot, the second one has three dots, the third one\n",
    "has 6 dots and so on.<br>\n",
    "Write a function that gives the number of dots with its corresponding triangle number of the\n",
    "sequence.<br>\n",
    "Examples<br>\n",
    "triangle(1) ➞ 1<br>\n",
    "triangle(6) ➞ 21<br>\n",
    "triangle(215) ➞ 23220"
   ]
  },
  {
   "cell_type": "code",
   "execution_count": 7,
   "id": "1fbf6e23",
   "metadata": {},
   "outputs": [],
   "source": [
    "def triangle(num):\n",
    "    return (num*(num+1))//2"
   ]
  },
  {
   "cell_type": "code",
   "execution_count": 8,
   "id": "54a23e8f",
   "metadata": {},
   "outputs": [
    {
     "data": {
      "text/plain": [
       "23220"
      ]
     },
     "execution_count": 8,
     "metadata": {},
     "output_type": "execute_result"
    }
   ],
   "source": [
    "triangle(215)"
   ]
  },
  {
   "cell_type": "markdown",
   "id": "6fb67238",
   "metadata": {},
   "source": [
    "### Question5\n",
    "Create a function that takes a list of numbers between 1 and 10 (excluding one number) and\n",
    "returns the missing number.<br>\n",
    "Examples<br>\n",
    "missing_num([1, 2, 3, 4, 6, 7, 8, 9, 10]) ➞ 5<br>\n",
    "missing_num([7, 2, 3, 6, 5, 9, 1, 4, 8]) ➞ 10<br>\n",
    "missing_num([10, 5, 1, 2, 4, 6, 8, 3, 9]) ➞ 7"
   ]
  },
  {
   "cell_type": "code",
   "execution_count": 9,
   "id": "c9e6e4f3",
   "metadata": {},
   "outputs": [],
   "source": [
    "def missing_num(lst):\n",
    "    max_num=max(lst)\n",
    "    for i in range(1,max_num+1):\n",
    "        if i not in lst:\n",
    "            return i\n",
    "    else:\n",
    "        return max_num+1"
   ]
  },
  {
   "cell_type": "code",
   "execution_count": 10,
   "id": "e6ece536",
   "metadata": {},
   "outputs": [
    {
     "data": {
      "text/plain": [
       "7"
      ]
     },
     "execution_count": 10,
     "metadata": {},
     "output_type": "execute_result"
    }
   ],
   "source": [
    "missing_num([10, 5, 1, 2, 4, 6, 8, 3, 9])"
   ]
  },
  {
   "cell_type": "code",
   "execution_count": null,
   "id": "4ac3a965",
   "metadata": {},
   "outputs": [],
   "source": []
  }
 ],
 "metadata": {
  "kernelspec": {
   "display_name": "Python 3",
   "language": "python",
   "name": "python3"
  },
  "language_info": {
   "codemirror_mode": {
    "name": "ipython",
    "version": 3
   },
   "file_extension": ".py",
   "mimetype": "text/x-python",
   "name": "python",
   "nbconvert_exporter": "python",
   "pygments_lexer": "ipython3",
   "version": "3.8.8"
  }
 },
 "nbformat": 4,
 "nbformat_minor": 5
}
